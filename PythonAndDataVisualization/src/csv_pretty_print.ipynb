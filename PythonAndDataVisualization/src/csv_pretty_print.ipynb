{
 "cells": [
  {
   "cell_type": "markdown",
   "metadata": {},
   "source": [
    "# CSV Pretty Print"
   ]
  },
  {
   "cell_type": "code",
   "execution_count": 29,
   "metadata": {},
   "outputs": [],
   "source": [
    "csv_1 = 'col_1,col_2,col_3,color\\n1,3456,2134,red\\n123,0,0,green\\n349587,-1,14,red'"
   ]
  },
  {
   "cell_type": "code",
   "execution_count": 30,
   "metadata": {},
   "outputs": [],
   "source": [
    "csv_2 = 'Sell,List,Living,Rooms,Beds,Baths,Age,Acres,Taxes\\n142,160,28,10,5,3,60,0.28,3167\\n175,180,18,8,4,1,12,0.43,4033\\n129,132,13,6,3,1,41,0.33,1471\\n138,140,17,7,3,1,22,0.46,3204\\n232,240,25,8,4,3,5,2.05,3613\\n135,140,18,7,4,3,9,0.57,3028\\n150,160,20,8,4,3,18,4.00,3131\\n207,225,22,8,4,2,16,2.22,5158\\n271,285,30,10,5,2,30,0.53,5702\\n89,90,10,5,3,1,43,0.30,2054\\n153,157,22,8,3,3,18,0.38,4127\\n87,90,16,7,3,1,50,0.65,1445\\n234,238,25,8,4,2,2,1.61,2087\\n106,116,20,8,4,1,13,0.22,2818\\n175,180,22,8,4,2,15,2.06,3917\\n165,170,17,8,4,2,33,0.46,2220\\n166,170,23,9,4,2,37,0.27,3498\\n136,140,19,7,3,1,22,0.63,3607\\n148,160,17,7,3,2,13,0.36,3648\\n151,153,19,8,4,2,24,0.34,3561'"
   ]
  },
  {
   "cell_type": "markdown",
   "metadata": {},
   "source": [
    "## 1. Parsare"
   ]
  },
  {
   "cell_type": "code",
   "execution_count": 31,
   "metadata": {},
   "outputs": [],
   "source": [
    "def parse_csv(csv_string):\n",
    "    rows = csv_string.split('\\n')\n",
    "    tabel = []\n",
    "    for row in rows:\n",
    "        tabel.append(row.split(','))\n",
    "    return tabel"
   ]
  },
  {
   "cell_type": "code",
   "execution_count": 32,
   "metadata": {},
   "outputs": [
    {
     "data": {
      "text/plain": [
       "[['col_1', 'col_2', 'col_3', 'color'],\n",
       " ['1', '3456', '2134', 'red'],\n",
       " ['123', '0', '0', 'green'],\n",
       " ['349587', '-1', '14', 'red']]"
      ]
     },
     "execution_count": 32,
     "metadata": {},
     "output_type": "execute_result"
    }
   ],
   "source": [
    "parse_csv(csv_1)"
   ]
  },
  {
   "cell_type": "code",
   "execution_count": 27,
   "metadata": {},
   "outputs": [
    {
     "data": {
      "text/plain": [
       "[['Sell', 'List', 'Living', 'Rooms', 'Beds', 'Baths', 'Age', 'Acres', 'Taxes'],\n",
       " ['142', '160', '28', '10', '5', '3', '60', '0.28', '3167'],\n",
       " ['175', '180', '18', '8', '4', '1', '12', '0.43', '4033'],\n",
       " ['129', '132', '13', '6', '3', '1', '41', '0.33', '1471'],\n",
       " ['138', '140', '17', '7', '3', '1', '22', '0.46', '3204'],\n",
       " ['232', '240', '25', '8', '4', '3', '5', '2.05', '3613'],\n",
       " ['135', '140', '18', '7', '4', '3', '9', '0.57', '3028'],\n",
       " ['150', '160', '20', '8', '4', '3', '18', '4.00', '3131'],\n",
       " ['207', '225', '22', '8', '4', '2', '16', '2.22', '5158'],\n",
       " ['271', '285', '30', '10', '5', '2', '30', '0.53', '5702'],\n",
       " ['89', '90', '10', '5', '3', '1', '43', '0.30', '2054'],\n",
       " ['153', '157', '22', '8', '3', '3', '18', '0.38', '4127'],\n",
       " ['87', '90', '16', '7', '3', '1', '50', '0.65', '1445'],\n",
       " ['234', '238', '25', '8', '4', '2', '2', '1.61', '2087'],\n",
       " ['106', '116', '20', '8', '4', '1', '13', '0.22', '2818'],\n",
       " ['175', '180', '22', '8', '4', '2', '15', '2.06', '3917'],\n",
       " ['165', '170', '17', '8', '4', '2', '33', '0.46', '2220'],\n",
       " ['166', '170', '23', '9', '4', '2', '37', '0.27', '3498'],\n",
       " ['136', '140', '19', '7', '3', '1', '22', '0.63', '3607'],\n",
       " ['148', '160', '17', '7', '3', '2', '13', '0.36', '3648'],\n",
       " ['151', '153', '19', '8', '4', '2', '24', '0.34', '3561']]"
      ]
     },
     "execution_count": 27,
     "metadata": {},
     "output_type": "execute_result"
    }
   ],
   "source": [
    "parse_csv(csv_2)"
   ]
  },
  {
   "cell_type": "markdown",
   "metadata": {},
   "source": [
    "## 2. Afisare"
   ]
  },
  {
   "cell_type": "code",
   "execution_count": 34,
   "metadata": {},
   "outputs": [],
   "source": [
    "def print_csv(csv_string):\n",
    "    tabel = parse_csv(csv_string)\n",
    "    for cell in tabel[0]:\n",
    "        print(cell.ljust(8), end='')\n",
    "    print()\n",
    "    print('-' * 8 * len(tabel[0]))\n",
    "    for row in tabel[1:]:\n",
    "        for cell in row:\n",
    "            print(cell.ljust(8), end='')\n",
    "        print()"
   ]
  },
  {
   "cell_type": "code",
   "execution_count": 35,
   "metadata": {},
   "outputs": [
    {
     "name": "stdout",
     "output_type": "stream",
     "text": [
      "col_1   col_2   col_3   color   \n",
      "--------------------------------\n",
      "1       3456    2134    red     \n",
      "123     0       0       green   \n",
      "349587  -1      14      red     \n"
     ]
    }
   ],
   "source": [
    "print_csv(csv_1)"
   ]
  },
  {
   "cell_type": "code",
   "execution_count": 37,
   "metadata": {},
   "outputs": [
    {
     "name": "stdout",
     "output_type": "stream",
     "text": [
      "Sell    List    Living  Rooms   Beds    Baths   Age     Acres   Taxes   \n",
      "------------------------------------------------------------------------\n",
      "142     160     28      10      5       3       60      0.28    3167    \n",
      "175     180     18      8       4       1       12      0.43    4033    \n",
      "129     132     13      6       3       1       41      0.33    1471    \n",
      "138     140     17      7       3       1       22      0.46    3204    \n",
      "232     240     25      8       4       3       5       2.05    3613    \n",
      "135     140     18      7       4       3       9       0.57    3028    \n",
      "150     160     20      8       4       3       18      4.00    3131    \n",
      "207     225     22      8       4       2       16      2.22    5158    \n",
      "271     285     30      10      5       2       30      0.53    5702    \n",
      "89      90      10      5       3       1       43      0.30    2054    \n",
      "153     157     22      8       3       3       18      0.38    4127    \n",
      "87      90      16      7       3       1       50      0.65    1445    \n",
      "234     238     25      8       4       2       2       1.61    2087    \n",
      "106     116     20      8       4       1       13      0.22    2818    \n",
      "175     180     22      8       4       2       15      2.06    3917    \n",
      "165     170     17      8       4       2       33      0.46    2220    \n",
      "166     170     23      9       4       2       37      0.27    3498    \n",
      "136     140     19      7       3       1       22      0.63    3607    \n",
      "148     160     17      7       3       2       13      0.36    3648    \n",
      "151     153     19      8       4       2       24      0.34    3561    \n"
     ]
    }
   ],
   "source": [
    "print_csv(csv_2)"
   ]
  },
  {
   "cell_type": "markdown",
   "metadata": {},
   "source": [
    "## 3. Bonus Challenge"
   ]
  },
  {
   "cell_type": "code",
   "execution_count": null,
   "metadata": {},
   "outputs": [],
   "source": [
    "def print_csv_dynamic(csv_string):\n",
    "    "
   ]
  }
 ],
 "metadata": {
  "kernelspec": {
   "display_name": "PythonAndDataVisualization",
   "language": "python",
   "name": "python3"
  },
  "language_info": {
   "codemirror_mode": {
    "name": "ipython",
    "version": 3
   },
   "file_extension": ".py",
   "mimetype": "text/x-python",
   "name": "python",
   "nbconvert_exporter": "python",
   "pygments_lexer": "ipython3",
   "version": "3.10.14"
  }
 },
 "nbformat": 4,
 "nbformat_minor": 2
}
