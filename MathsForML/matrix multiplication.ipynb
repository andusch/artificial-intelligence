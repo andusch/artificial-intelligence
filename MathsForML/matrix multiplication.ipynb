{
 "cells": [
  {
   "cell_type": "markdown",
   "metadata": {},
   "source": [
    "# Matrix Multiplication"
   ]
  },
  {
   "cell_type": "code",
   "execution_count": 1,
   "metadata": {},
   "outputs": [],
   "source": [
    "import numpy as np"
   ]
  },
  {
   "cell_type": "code",
   "execution_count": 2,
   "metadata": {},
   "outputs": [
    {
     "name": "stdout",
     "output_type": "stream",
     "text": [
      "[[ 1  2 -1]\n",
      " [ 3  0 -2]]\n",
      "[[ 4  1]\n",
      " [-1  0]\n",
      " [ 3 -3]]\n"
     ]
    }
   ],
   "source": [
    "A = np.array([\n",
    "    [1, 2, -1],\n",
    "    [3, 0, -2]\n",
    "], dtype=np.dtype(int))\n",
    "\n",
    "print(A)\n",
    "\n",
    "B = np.array([\n",
    "    [4, 1],\n",
    "    [-1, 0],\n",
    "    [3, -3]\n",
    "])\n",
    "\n",
    "print(B)"
   ]
  },
  {
   "cell_type": "code",
   "execution_count": 5,
   "metadata": {},
   "outputs": [
    {
     "name": "stdout",
     "output_type": "stream",
     "text": [
      "[[-1  4]\n",
      " [ 6  9]]\n"
     ]
    }
   ],
   "source": [
    "C = np.matmul(A, B)\n",
    "print(C)"
   ]
  },
  {
   "cell_type": "code",
   "execution_count": 7,
   "metadata": {},
   "outputs": [
    {
     "name": "stdout",
     "output_type": "stream",
     "text": [
      "[[ 7  8 -6]\n",
      " [-1 -2  1]\n",
      " [-6  6  3]]\n"
     ]
    }
   ],
   "source": [
    "D = np.dot(B, A)\n",
    "print(D)"
   ]
  }
 ],
 "metadata": {
  "kernelspec": {
   "display_name": ".venv",
   "language": "python",
   "name": "python3"
  },
  "language_info": {
   "codemirror_mode": {
    "name": "ipython",
    "version": 3
   },
   "file_extension": ".py",
   "mimetype": "text/x-python",
   "name": "python",
   "nbconvert_exporter": "python",
   "pygments_lexer": "ipython3",
   "version": "3.12.3"
  }
 },
 "nbformat": 4,
 "nbformat_minor": 2
}
