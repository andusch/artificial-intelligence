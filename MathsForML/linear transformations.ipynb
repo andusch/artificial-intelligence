{
 "cells": [
  {
   "cell_type": "code",
   "execution_count": 1,
   "metadata": {},
   "outputs": [],
   "source": [
    "import numpy as np\n",
    "import cv2"
   ]
  },
  {
   "cell_type": "code",
   "execution_count": 2,
   "metadata": {},
   "outputs": [
    {
     "name": "stdout",
     "output_type": "stream",
     "text": [
      "[[  9.]\n",
      " [  0.]\n",
      " [-10.]]\n"
     ]
    }
   ],
   "source": [
    "def T(v):\n",
    "    w = np.zeros((3, 1))\n",
    "    w[0, 0] = 3 * v[0, 0]\n",
    "    w[2, 0] = -2 * v[1, 0]\n",
    "    return w\n",
    "\n",
    "v = np.array([\n",
    "    [3],\n",
    "    [5]\n",
    "])\n",
    "\n",
    "w = T(v)\n",
    "print(w)"
   ]
  },
  {
   "cell_type": "code",
   "execution_count": 3,
   "metadata": {},
   "outputs": [
    {
     "name": "stdout",
     "output_type": "stream",
     "text": [
      "T(k * v) = \n",
      " [[ 42.]\n",
      " [  0.]\n",
      " [-56.]] \n",
      " k * T(v) = \n",
      " [[ 42.]\n",
      " [  0.]\n",
      " [-56.]] \n",
      "\n",
      "\n",
      "T(u + v) = \n",
      " [[ 9.]\n",
      " [ 0.]\n",
      " [-4.]] \n",
      " T(u) + T(v) = \n",
      " [[ 9.]\n",
      " [ 0.]\n",
      " [-4.]] \n",
      "\n",
      "\n"
     ]
    }
   ],
   "source": [
    "v = np.array([\n",
    "    [2],\n",
    "    [4]\n",
    "])\n",
    "\n",
    "u = np.array([\n",
    "    [1],\n",
    "    [-2]\n",
    "])\n",
    "\n",
    "k = 7\n",
    "\n",
    "print(\"T(k * v) = \\n\", T(k * v), \"\\n k * T(v) = \\n\", k * T(v), \"\\n\\n\")\n",
    "print(\"T(u + v) = \\n\", T(u + v), \"\\n T(u) + T(v) = \\n\", T(u) + T(v), \"\\n\\n\")"
   ]
  },
  {
   "cell_type": "code",
   "execution_count": 7,
   "metadata": {},
   "outputs": [
    {
     "name": "stdout",
     "output_type": "stream",
     "text": [
      "Transformation matrix:\n",
      " [[ 3  0]\n",
      " [ 0  0]\n",
      " [ 0 -2]] \n",
      "\n",
      "Original vector:\n",
      " [[3]\n",
      " [5]] \n",
      "\n",
      " Result of the transformation:\n",
      " [[  9]\n",
      " [  0]\n",
      " [-10]]\n"
     ]
    }
   ],
   "source": [
    "def L(v):\n",
    "    A = np.array([\n",
    "        [3, 0],\n",
    "        [0, 0],\n",
    "        [0, -2]\n",
    "    ])\n",
    "    \n",
    "    print(\"Transformation matrix:\\n\", A, \"\\n\")\n",
    "    \n",
    "    w = A @ v\n",
    "    return w\n",
    "\n",
    "v = np.array([\n",
    "    [3],\n",
    "    [5]\n",
    "])\n",
    "\n",
    "w = L(v)\n",
    "\n",
    "print(\"Original vector:\\n\", v, \"\\n\\n Result of the transformation:\\n\", w)"
   ]
  }
 ],
 "metadata": {
  "kernelspec": {
   "display_name": ".venv",
   "language": "python",
   "name": "python3"
  },
  "language_info": {
   "codemirror_mode": {
    "name": "ipython",
    "version": 3
   },
   "file_extension": ".py",
   "mimetype": "text/x-python",
   "name": "python",
   "nbconvert_exporter": "python",
   "pygments_lexer": "ipython3",
   "version": "3.12.3"
  }
 },
 "nbformat": 4,
 "nbformat_minor": 2
}
