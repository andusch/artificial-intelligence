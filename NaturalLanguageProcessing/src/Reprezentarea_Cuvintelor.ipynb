{
 "cells": [
  {
   "cell_type": "markdown",
   "metadata": {
    "id": "q_G6xYEW1Eja"
   },
   "source": [
    "# Reprezentarea Cuvintelor (sau _Word Embeddings_)\n",
    "\n",
    "Acest laborator prezintă conceptele cheie și pașii pentru implementarea unei modalități de reprezentare a textelor sau cuvintelor ca vectori."
   ]
  },
  {
   "cell_type": "markdown",
   "metadata": {
    "id": "xnF1IrxEd43O"
   },
   "source": [
    "## Setul de date"
   ]
  },
  {
   "cell_type": "markdown",
   "metadata": {
    "id": "Gti7OAr-dmW-"
   },
   "source": [
    "Primul set de date pe care îl vom folosi este _common_texts_. Acesta conține o listă de documente, unde fiecare document conține o serie de cuvinte cheie prezentate tot ca o listă. Setul este mic si multe cuvinte se repetă, ceea ce îl face ușor de urmărit:"
   ]
  },
  {
   "cell_type": "code",
   "execution_count": 1,
   "metadata": {
    "colab": {
     "base_uri": "https://localhost:8080/"
    },
    "id": "S4UJhYwhZ8vL",
    "outputId": "c5c7626b-12cd-4eed-9681-ad4b7f952a18"
   },
   "outputs": [
    {
     "data": {
      "text/plain": [
       "[['human', 'interface', 'computer'],\n",
       " ['survey', 'user', 'computer', 'system', 'response', 'time'],\n",
       " ['eps', 'user', 'interface', 'system'],\n",
       " ['system', 'human', 'system', 'eps'],\n",
       " ['user', 'response', 'time'],\n",
       " ['trees'],\n",
       " ['graph', 'trees'],\n",
       " ['graph', 'minors', 'trees'],\n",
       " ['graph', 'minors', 'survey']]"
      ]
     },
     "execution_count": 1,
     "metadata": {},
     "output_type": "execute_result"
    }
   ],
   "source": [
    "from gensim.test.utils import common_texts\n",
    "\n",
    "common_texts"
   ]
  },
  {
   "cell_type": "code",
   "execution_count": 3,
   "metadata": {
    "id": "Y5HHDl5WDkOy"
   },
   "outputs": [],
   "source": [
    "text = [\n",
    "  'human interface computer',\n",
    "  'survey user computer system response time',\n",
    "  'eps user interface system',\n",
    "  'system human system eps',\n",
    "  'user response time',\n",
    "  'trees',\n",
    "  'graph trees',\n",
    "  'graph minors trees',\n",
    "  'graph minors survey'\n",
    "]"
   ]
  },
  {
   "cell_type": "markdown",
   "metadata": {
    "id": "pTqWJZnvAKOU"
   },
   "source": [
    "În general o să folosim seturi de date mai mari, care ne transmit mai multe informații. Momentan folosim acest set de date fiindcă se mișcă mai rapid."
   ]
  },
  {
   "cell_type": "markdown",
   "metadata": {
    "id": "kGGceCGWaRcM"
   },
   "source": [
    "## Bag of Words\n",
    "\n",
    "Nu vom implementa niciun model manual, vom folosi implementările deja existente. Pentru Bag of Words, aceasta se numește _CountVectorizer_:"
   ]
  },
  {
   "cell_type": "code",
   "execution_count": 4,
   "metadata": {
    "id": "sddR0EQSBSot"
   },
   "outputs": [],
   "source": [
    "from sklearn.feature_extraction.text import CountVectorizer"
   ]
  },
  {
   "cell_type": "markdown",
   "metadata": {
    "id": "VC4FZiO0BS0C"
   },
   "source": [
    "_CountVectorizer_ este clasa pe care o vom folosi pentru a traduce fiecare propoziție din setul de date în varianta numerică a acesteia. Pentru asta trebuie să creăm o instanță a clasei noastre:"
   ]
  },
  {
   "cell_type": "code",
   "execution_count": 5,
   "metadata": {
    "id": "R0g_8f2rB0L-"
   },
   "outputs": [],
   "source": [
    "vectorizer = CountVectorizer()"
   ]
  },
  {
   "cell_type": "markdown",
   "metadata": {
    "id": "uGTP4eJdB0Ya"
   },
   "source": [
    "_vectorizer_ este numele pe care îl vom da listei noastre de valori care ne transmit informațiile despre text.\n",
    "Pentru a aplica modelul pe textul nostru trebuie să apelăm funcția _fit_transform_ din interiorul instanței:"
   ]
  },
  {
   "cell_type": "code",
   "execution_count": 6,
   "metadata": {
    "id": "bP1R_KMoCi2g"
   },
   "outputs": [],
   "source": [
    "X = vectorizer.fit_transform(text)"
   ]
  },
  {
   "cell_type": "markdown",
   "metadata": {
    "id": "do2dfaBtFV0o"
   },
   "source": [
    "Funcția aplicată mai sus extrage lista de cuvinte din text și calculează de câte ori apare fiecare cuvânt în fiecare propoziție. Putem vedea lista de cuvinte folosind altă funcție din instanță:"
   ]
  },
  {
   "cell_type": "code",
   "execution_count": 7,
   "metadata": {
    "colab": {
     "base_uri": "https://localhost:8080/"
    },
    "id": "ADV-Mh37E9DF",
    "outputId": "04c5c669-0a81-4721-ac56-2a1ff7d7621a"
   },
   "outputs": [
    {
     "data": {
      "text/plain": [
       "array(['computer', 'eps', 'graph', 'human', 'interface', 'minors',\n",
       "       'response', 'survey', 'system', 'time', 'trees', 'user'],\n",
       "      dtype=object)"
      ]
     },
     "execution_count": 7,
     "metadata": {},
     "output_type": "execute_result"
    }
   ],
   "source": [
    "vectorizer.get_feature_names_out()"
   ]
  },
  {
   "cell_type": "markdown",
   "metadata": {
    "id": "YoLQlpAkCjCU"
   },
   "source": [
    "X este lista noastră de valori. Fiecare linie reprezintă o propoziție, fiecare coloană reprezintă un cuvânt, iar valorile aflate la intersecție ne spun de câte ori apare fiecare cuvânt în fiecare propoziție."
   ]
  },
  {
   "cell_type": "code",
   "execution_count": 8,
   "metadata": {
    "colab": {
     "base_uri": "https://localhost:8080/"
    },
    "id": "BbtXiGHUEqJC",
    "outputId": "ac946455-c4b1-41cb-d02c-ba884ed30930"
   },
   "outputs": [
    {
     "data": {
      "text/plain": [
       "array([[1, 0, 0, 1, 1, 0, 0, 0, 0, 0, 0, 0],\n",
       "       [1, 0, 0, 0, 0, 0, 1, 1, 1, 1, 0, 1],\n",
       "       [0, 1, 0, 0, 1, 0, 0, 0, 1, 0, 0, 1],\n",
       "       [0, 1, 0, 1, 0, 0, 0, 0, 2, 0, 0, 0],\n",
       "       [0, 0, 0, 0, 0, 0, 1, 0, 0, 1, 0, 1],\n",
       "       [0, 0, 0, 0, 0, 0, 0, 0, 0, 0, 1, 0],\n",
       "       [0, 0, 1, 0, 0, 0, 0, 0, 0, 0, 1, 0],\n",
       "       [0, 0, 1, 0, 0, 1, 0, 0, 0, 0, 1, 0],\n",
       "       [0, 0, 1, 0, 0, 1, 0, 1, 0, 0, 0, 0]])"
      ]
     },
     "execution_count": 8,
     "metadata": {},
     "output_type": "execute_result"
    }
   ],
   "source": [
    "X.toarray()"
   ]
  },
  {
   "cell_type": "markdown",
   "metadata": {
    "id": "8-D0Tn4DFzmC"
   },
   "source": [
    "Gata! Acum știm vectorizarea fiecărei propoziții folosind Bag of Words!"
   ]
  },
  {
   "cell_type": "markdown",
   "metadata": {
    "id": "9_roanSbF6rO"
   },
   "source": [
    "### EXERCIȚIU:\n",
    "\n"
   ]
  },
  {
   "cell_type": "markdown",
   "metadata": {
    "id": "9-i_TTioGIRF"
   },
   "source": [
    "La fel ca majoritatea claselor, CountVectorizer are o serie de parametri\n",
    "\n",
    "\n",
    " cu valori predefinite. Printre acestea se numără și _binary=False_, care numără de câte ori apar cuvintele. Setează valoarea acestui parametru ca _True_, antrenează din nou pe textul dat și afișează noua listă de valori (X)."
   ]
  },
  {
   "cell_type": "code",
   "execution_count": null,
   "metadata": {
    "colab": {
     "base_uri": "https://localhost:8080/"
    },
    "id": "4ylruyKlGGmP",
    "is_executing": true,
    "outputId": "5409e802-2d62-4446-bc92-fcb599de1410"
   },
   "outputs": [],
   "source": [
    "# TODO: creează o instanță cu parametrul binary setat True\n",
    "\n",
    "# TODO: antrenează din nou pe text\n",
    "\n",
    "# TODO: afișează noua listă de valori (X)\n"
   ]
  },
  {
   "cell_type": "code",
   "execution_count": 9,
   "metadata": {},
   "outputs": [],
   "source": [
    "vectorizer2 = CountVectorizer(binary=True)"
   ]
  },
  {
   "cell_type": "code",
   "execution_count": 10,
   "metadata": {},
   "outputs": [],
   "source": [
    "Y = vectorizer2.fit_transform(text)"
   ]
  },
  {
   "cell_type": "code",
   "execution_count": 11,
   "metadata": {},
   "outputs": [
    {
     "data": {
      "text/plain": [
       "array([[1, 0, 0, 1, 1, 0, 0, 0, 0, 0, 0, 0],\n",
       "       [1, 0, 0, 0, 0, 0, 1, 1, 1, 1, 0, 1],\n",
       "       [0, 1, 0, 0, 1, 0, 0, 0, 1, 0, 0, 1],\n",
       "       [0, 1, 0, 1, 0, 0, 0, 0, 1, 0, 0, 0],\n",
       "       [0, 0, 0, 0, 0, 0, 1, 0, 0, 1, 0, 1],\n",
       "       [0, 0, 0, 0, 0, 0, 0, 0, 0, 0, 1, 0],\n",
       "       [0, 0, 1, 0, 0, 0, 0, 0, 0, 0, 1, 0],\n",
       "       [0, 0, 1, 0, 0, 1, 0, 0, 0, 0, 1, 0],\n",
       "       [0, 0, 1, 0, 0, 1, 0, 1, 0, 0, 0, 0]])"
      ]
     },
     "execution_count": 11,
     "metadata": {},
     "output_type": "execute_result"
    }
   ],
   "source": [
    "Y.toarray()"
   ]
  },
  {
   "cell_type": "markdown",
   "metadata": {
    "id": "SErBvUe7aP7v"
   },
   "source": [
    "## TFIDF\n",
    "\n",
    "TFIDF este antrenat și apelat exact la fel ca Bag of Words, doar că funcția pe care o folosim se numește _TfidfVectorizer_. Creează lista de valori numerice corespunzătoare textului folosind metoda TFIDF din cadrul clasei de mai jos:"
   ]
  },
  {
   "cell_type": "code",
   "execution_count": 14,
   "metadata": {
    "colab": {
     "base_uri": "https://localhost:8080/"
    },
    "id": "7KNFe_r9aPTA",
    "is_executing": true,
    "outputId": "76dca847-0ae1-423c-8cbc-41309bc25aa4"
   },
   "outputs": [],
   "source": [
    "from sklearn.feature_extraction.text import TfidfVectorizer\n",
    "\n",
    "# TODO: La fel ca mai sus, creează o instanță a clasei TfidfVectorizer, antreneaz-o pe text și afișează lista de valori X\n",
    "\n",
    "# TODO: antrenează din nou pe text\n",
    "\n",
    "# TODO: afișează noua listă de valori (X)\n"
   ]
  },
  {
   "cell_type": "code",
   "execution_count": 15,
   "metadata": {},
   "outputs": [],
   "source": [
    "vectorizer = TfidfVectorizer()"
   ]
  },
  {
   "cell_type": "code",
   "execution_count": 16,
   "metadata": {},
   "outputs": [],
   "source": [
    "X = vectorizer.fit_transform(text)"
   ]
  },
  {
   "cell_type": "code",
   "execution_count": 17,
   "metadata": {},
   "outputs": [
    {
     "data": {
      "text/plain": [
       "array([[0.57735027, 0.        , 0.        , 0.57735027, 0.57735027,\n",
       "        0.        , 0.        , 0.        , 0.        , 0.        ,\n",
       "        0.        , 0.        ],\n",
       "       [0.42593857, 0.        , 0.        , 0.        , 0.        ,\n",
       "        0.        , 0.42593857, 0.42593857, 0.37034129, 0.42593857,\n",
       "        0.        , 0.37034129],\n",
       "       [0.        , 0.53361154, 0.        , 0.        , 0.53361154,\n",
       "        0.        , 0.        , 0.        , 0.46395983, 0.        ,\n",
       "        0.        , 0.46395983],\n",
       "       [0.        , 0.44614767, 0.        , 0.44614767, 0.        ,\n",
       "        0.        , 0.        , 0.        , 0.77582505, 0.        ,\n",
       "        0.        , 0.        ],\n",
       "       [0.        , 0.        , 0.        , 0.        , 0.        ,\n",
       "        0.        , 0.6023681 , 0.        , 0.        , 0.6023681 ,\n",
       "        0.        , 0.52374168],\n",
       "       [0.        , 0.        , 0.        , 0.        , 0.        ,\n",
       "        0.        , 0.        , 0.        , 0.        , 0.        ,\n",
       "        1.        , 0.        ],\n",
       "       [0.        , 0.        , 0.70710678, 0.        , 0.        ,\n",
       "        0.        , 0.        , 0.        , 0.        , 0.        ,\n",
       "        0.70710678, 0.        ],\n",
       "       [0.        , 0.        , 0.54859115, 0.        , 0.        ,\n",
       "        0.63094809, 0.        , 0.        , 0.        , 0.        ,\n",
       "        0.54859115, 0.        ],\n",
       "       [0.        , 0.        , 0.52374168, 0.        , 0.        ,\n",
       "        0.6023681 , 0.        , 0.6023681 , 0.        , 0.        ,\n",
       "        0.        , 0.        ]])"
      ]
     },
     "execution_count": 17,
     "metadata": {},
     "output_type": "execute_result"
    }
   ],
   "source": [
    "X.toarray()"
   ]
  },
  {
   "cell_type": "markdown",
   "metadata": {
    "id": "z2x8GG6haW7u"
   },
   "source": [
    "## Word2Vec\n",
    "\n",
    "Word2Vec funcționează puțin diferit. Îl vom antrena pe lista de cuvinte (în loc de propoziții) și îi spunem să ia în considerare cuvintele care apar minim o dată:"
   ]
  },
  {
   "cell_type": "code",
   "execution_count": 18,
   "metadata": {
    "id": "lK8fWrimIjeh"
   },
   "outputs": [],
   "source": [
    "from gensim.models import Word2Vec\n",
    "\n",
    "vectorizer = Word2Vec(common_texts, min_count=1).wv"
   ]
  },
  {
   "cell_type": "markdown",
   "metadata": {
    "id": "_862fHDlJ3bs"
   },
   "source": [
    "Putem vedea lista de cuvinte folosind următoarea funcție:"
   ]
  },
  {
   "cell_type": "code",
   "execution_count": 19,
   "metadata": {
    "colab": {
     "base_uri": "https://localhost:8080/"
    },
    "id": "Ay0NKjqaI6T9",
    "outputId": "5df0cc7a-0e22-4e06-db64-73b24481e0cd"
   },
   "outputs": [
    {
     "data": {
      "text/plain": [
       "{'system': 0,\n",
       " 'graph': 1,\n",
       " 'trees': 2,\n",
       " 'user': 3,\n",
       " 'minors': 4,\n",
       " 'eps': 5,\n",
       " 'time': 6,\n",
       " 'response': 7,\n",
       " 'survey': 8,\n",
       " 'computer': 9,\n",
       " 'interface': 10,\n",
       " 'human': 11}"
      ]
     },
     "execution_count": 19,
     "metadata": {},
     "output_type": "execute_result"
    }
   ],
   "source": [
    "vectorizer.key_to_index"
   ]
  },
  {
   "cell_type": "markdown",
   "metadata": {
    "id": "2JDO0s5iKMoE"
   },
   "source": [
    "Noua noastră instanță vine cu o serie de funcții noi pe care le putem descoperi. Folosește funcția _most_similar(word)_ pentru a vedea cuvintele care seamănă cel mai mult cu cuvântul _system_:"
   ]
  },
  {
   "cell_type": "code",
   "execution_count": 21,
   "metadata": {
    "colab": {
     "base_uri": "https://localhost:8080/"
    },
    "id": "KstuGaPeapWO",
    "is_executing": true,
    "outputId": "b1e02131-9d9e-430d-dc4d-6d292b4898ed"
   },
   "outputs": [
    {
     "data": {
      "text/plain": [
       "[('computer', 0.21617139875888824),\n",
       " ('response', 0.09293834120035172),\n",
       " ('human', 0.079634889960289),\n",
       " ('interface', 0.06288161873817444),\n",
       " ('survey', 0.027057476341724396),\n",
       " ('time', 0.016134677454829216),\n",
       " ('graph', -0.010839175432920456),\n",
       " ('minors', -0.02775035798549652),\n",
       " ('trees', -0.05234672874212265),\n",
       " ('eps', -0.059876296669244766)]"
      ]
     },
     "execution_count": 21,
     "metadata": {},
     "output_type": "execute_result"
    }
   ],
   "source": [
    "# TODO: găsește cuvintele cele mai apropiate de \"system\"\n",
    "\n",
    "vectorizer.most_similar('system')"
   ]
  },
  {
   "cell_type": "markdown",
   "metadata": {
    "id": "QiUhEidcK8Fs"
   },
   "source": [
    "Folosește funcția _similarity(word1, word2)_ pentru a vedea cât de apropiate sunt cuvintele _human_ și _computer_:"
   ]
  },
  {
   "cell_type": "code",
   "execution_count": 22,
   "metadata": {
    "colab": {
     "base_uri": "https://localhost:8080/"
    },
    "id": "loQCmdJMap5S",
    "is_executing": true,
    "outputId": "893f29aa-f3ea-499d-b60f-d200e57f64c6"
   },
   "outputs": [
    {
     "data": {
      "text/plain": [
       "-0.07424271"
      ]
     },
     "execution_count": 22,
     "metadata": {},
     "output_type": "execute_result"
    }
   ],
   "source": [
    "# TODO: găsește similaritatea între \"human\" și \"computer\"\n",
    "\n",
    "vectorizer.similarity('human', 'computer')"
   ]
  },
  {
   "cell_type": "markdown",
   "metadata": {
    "id": "R32-lcScLYcK"
   },
   "source": [
    "Ce se întâmplă dacă încercăm să calculăm _king + woman - man_ ?"
   ]
  },
  {
   "cell_type": "code",
   "execution_count": 23,
   "metadata": {
    "colab": {
     "base_uri": "https://localhost:8080/",
     "height": 287
    },
    "id": "RYeUYNunax23",
    "outputId": "cec5aa9f-1fa5-4621-cbc6-b5a7c040465a"
   },
   "outputs": [
    {
     "ename": "KeyError",
     "evalue": "\"Key 'king' not present in vocabulary\"",
     "output_type": "error",
     "traceback": [
      "\u001b[0;31m---------------------------------------------------------------------------\u001b[0m",
      "\u001b[0;31mKeyError\u001b[0m                                  Traceback (most recent call last)",
      "Cell \u001b[0;32mIn[23], line 1\u001b[0m\n\u001b[0;32m----> 1\u001b[0m \u001b[43mvectorizer\u001b[49m\u001b[38;5;241;43m.\u001b[39;49m\u001b[43mmost_similar\u001b[49m\u001b[43m(\u001b[49m\u001b[43mpositive\u001b[49m\u001b[38;5;241;43m=\u001b[39;49m\u001b[43m[\u001b[49m\u001b[38;5;124;43m\"\u001b[39;49m\u001b[38;5;124;43mking\u001b[39;49m\u001b[38;5;124;43m\"\u001b[39;49m\u001b[43m,\u001b[49m\u001b[43m \u001b[49m\u001b[38;5;124;43m\"\u001b[39;49m\u001b[38;5;124;43mwoman\u001b[39;49m\u001b[38;5;124;43m\"\u001b[39;49m\u001b[43m]\u001b[49m\u001b[43m,\u001b[49m\u001b[43m \u001b[49m\u001b[43mnegative\u001b[49m\u001b[38;5;241;43m=\u001b[39;49m\u001b[43m[\u001b[49m\u001b[38;5;124;43m\"\u001b[39;49m\u001b[38;5;124;43mman\u001b[39;49m\u001b[38;5;124;43m\"\u001b[39;49m\u001b[43m]\u001b[49m\u001b[43m)\u001b[49m\n",
      "File \u001b[0;32m~/Documents/Coding/Python/NaturalLanguageProcessing/lib/python3.12/site-packages/gensim/models/keyedvectors.py:841\u001b[0m, in \u001b[0;36mKeyedVectors.most_similar\u001b[0;34m(self, positive, negative, topn, clip_start, clip_end, restrict_vocab, indexer)\u001b[0m\n\u001b[1;32m    838\u001b[0m         weight[idx] \u001b[38;5;241m=\u001b[39m item[\u001b[38;5;241m1\u001b[39m]\n\u001b[1;32m    840\u001b[0m \u001b[38;5;66;03m# compute the weighted average of all keys\u001b[39;00m\n\u001b[0;32m--> 841\u001b[0m mean \u001b[38;5;241m=\u001b[39m \u001b[38;5;28;43mself\u001b[39;49m\u001b[38;5;241;43m.\u001b[39;49m\u001b[43mget_mean_vector\u001b[49m\u001b[43m(\u001b[49m\u001b[43mkeys\u001b[49m\u001b[43m,\u001b[49m\u001b[43m \u001b[49m\u001b[43mweight\u001b[49m\u001b[43m,\u001b[49m\u001b[43m \u001b[49m\u001b[43mpre_normalize\u001b[49m\u001b[38;5;241;43m=\u001b[39;49m\u001b[38;5;28;43;01mTrue\u001b[39;49;00m\u001b[43m,\u001b[49m\u001b[43m \u001b[49m\u001b[43mpost_normalize\u001b[49m\u001b[38;5;241;43m=\u001b[39;49m\u001b[38;5;28;43;01mTrue\u001b[39;49;00m\u001b[43m,\u001b[49m\u001b[43m \u001b[49m\u001b[43mignore_missing\u001b[49m\u001b[38;5;241;43m=\u001b[39;49m\u001b[38;5;28;43;01mFalse\u001b[39;49;00m\u001b[43m)\u001b[49m\n\u001b[1;32m    842\u001b[0m all_keys \u001b[38;5;241m=\u001b[39m [\n\u001b[1;32m    843\u001b[0m     \u001b[38;5;28mself\u001b[39m\u001b[38;5;241m.\u001b[39mget_index(key) \u001b[38;5;28;01mfor\u001b[39;00m key \u001b[38;5;129;01min\u001b[39;00m keys \u001b[38;5;28;01mif\u001b[39;00m \u001b[38;5;28misinstance\u001b[39m(key, _KEY_TYPES) \u001b[38;5;129;01mand\u001b[39;00m \u001b[38;5;28mself\u001b[39m\u001b[38;5;241m.\u001b[39mhas_index_for(key)\n\u001b[1;32m    844\u001b[0m ]\n\u001b[1;32m    846\u001b[0m \u001b[38;5;28;01mif\u001b[39;00m indexer \u001b[38;5;129;01mis\u001b[39;00m \u001b[38;5;129;01mnot\u001b[39;00m \u001b[38;5;28;01mNone\u001b[39;00m \u001b[38;5;129;01mand\u001b[39;00m \u001b[38;5;28misinstance\u001b[39m(topn, \u001b[38;5;28mint\u001b[39m):\n",
      "File \u001b[0;32m~/Documents/Coding/Python/NaturalLanguageProcessing/lib/python3.12/site-packages/gensim/models/keyedvectors.py:518\u001b[0m, in \u001b[0;36mKeyedVectors.get_mean_vector\u001b[0;34m(self, keys, weights, pre_normalize, post_normalize, ignore_missing)\u001b[0m\n\u001b[1;32m    516\u001b[0m         total_weight \u001b[38;5;241m+\u001b[39m\u001b[38;5;241m=\u001b[39m \u001b[38;5;28mabs\u001b[39m(weights[idx])\n\u001b[1;32m    517\u001b[0m     \u001b[38;5;28;01melif\u001b[39;00m \u001b[38;5;129;01mnot\u001b[39;00m ignore_missing:\n\u001b[0;32m--> 518\u001b[0m         \u001b[38;5;28;01mraise\u001b[39;00m \u001b[38;5;167;01mKeyError\u001b[39;00m(\u001b[38;5;124mf\u001b[39m\u001b[38;5;124m\"\u001b[39m\u001b[38;5;124mKey \u001b[39m\u001b[38;5;124m'\u001b[39m\u001b[38;5;132;01m{\u001b[39;00mkey\u001b[38;5;132;01m}\u001b[39;00m\u001b[38;5;124m'\u001b[39m\u001b[38;5;124m not present in vocabulary\u001b[39m\u001b[38;5;124m\"\u001b[39m)\n\u001b[1;32m    520\u001b[0m \u001b[38;5;28;01mif\u001b[39;00m total_weight \u001b[38;5;241m>\u001b[39m \u001b[38;5;241m0\u001b[39m:\n\u001b[1;32m    521\u001b[0m     mean \u001b[38;5;241m=\u001b[39m mean \u001b[38;5;241m/\u001b[39m total_weight\n",
      "\u001b[0;31mKeyError\u001b[0m: \"Key 'king' not present in vocabulary\""
     ]
    }
   ],
   "source": [
    "vectorizer.most_similar(positive=[\"king\", \"woman\"], negative=[\"man\"])"
   ]
  },
  {
   "cell_type": "markdown",
   "metadata": {
    "id": "1YwnAzxCLm10"
   },
   "source": [
    "Modelul nostru nu a învățat aceste cuvinte, așa că nu știe ce să facă cu ele. Încearcă să calculezi diferența între alte 3 cuvinte din lista de cuvinte știute:"
   ]
  },
  {
   "cell_type": "code",
   "execution_count": 25,
   "metadata": {
    "colab": {
     "base_uri": "https://localhost:8080/"
    },
    "id": "a3NITmGVa3rT",
    "is_executing": true,
    "outputId": "7c82f3be-6cdf-4539-d293-f56f946f914c"
   },
   "outputs": [
    {
     "data": {
      "text/plain": [
       "[('minors', 0.050137560814619064),\n",
       " ('system', 0.040320925414562225),\n",
       " ('time', 0.01931922324001789),\n",
       " ('graph', 0.01655508764088154),\n",
       " ('survey', -0.010864594019949436),\n",
       " ('trees', -0.05670259892940521),\n",
       " ('user', -0.12239348143339157),\n",
       " ('eps', -0.15989215672016144),\n",
       " ('response', -0.1715138852596283)]"
      ]
     },
     "execution_count": 25,
     "metadata": {},
     "output_type": "execute_result"
    }
   ],
   "source": [
    "# TODO\n",
    "\n",
    "vectorizer.most_similar(positive=['computer'], negative=['human', 'interface'])"
   ]
  },
  {
   "cell_type": "markdown",
   "metadata": {
    "id": "RSHYVd2chjjK"
   },
   "source": [
    "## BONUS"
   ]
  },
  {
   "cell_type": "markdown",
   "metadata": {
    "id": "MLOcFNf1ewu1"
   },
   "source": [
    "Pentru următoarele exerciții vom folosi un set de date care conține 3.000.000 de cuvinte sub forma unei serii de știri extrase de pe Google. Întrucât setul este foarte mare și ar dura extrem de mult timp să îl antrenăm singuri, vom downloada modelul direct antrenat ca să ne uităm cum funcționează. Ne așteptăm ca downloadul să dureze minim 10 minute, deci aveți grijă când rulați această celulă:"
   ]
  },
  {
   "cell_type": "code",
   "execution_count": 26,
   "metadata": {
    "colab": {
     "base_uri": "https://localhost:8080/"
    },
    "id": "S5LAkwBJafdl",
    "outputId": "4d5a8f51-1f41-42e4-b858-ef9980515e69"
   },
   "outputs": [
    {
     "name": "stdout",
     "output_type": "stream",
     "text": [
      "[==================================================] 100.0% 1662.8/1662.8MB downloaded\n"
     ]
    }
   ],
   "source": [
    "import gensim.downloader as api\n",
    "\n",
    "model = api.load(\"word2vec-google-news-300\")"
   ]
  },
  {
   "cell_type": "code",
   "execution_count": 27,
   "metadata": {
    "colab": {
     "base_uri": "https://localhost:8080/"
    },
    "id": "AEtcroBuTdzA",
    "outputId": "a0aa1b4d-360f-45dd-8924-fbf9e2be7bd4"
   },
   "outputs": [
    {
     "data": {
      "text/plain": [
       "[('systems', 0.7227916717529297),\n",
       " ('sytem', 0.7129376530647278),\n",
       " ('sys_tem', 0.5871981978416443),\n",
       " ('System', 0.5275423526763916),\n",
       " ('mechanism', 0.5058810710906982),\n",
       " ('sysem', 0.5027822852134705),\n",
       " ('systen', 0.49969804286956787),\n",
       " ('system.The', 0.495991975069046),\n",
       " ('sytems', 0.4949610233306885),\n",
       " ('computerized', 0.4760481119155884)]"
      ]
     },
     "execution_count": 27,
     "metadata": {},
     "output_type": "execute_result"
    }
   ],
   "source": [
    "model.most_similar('system')"
   ]
  },
  {
   "cell_type": "code",
   "execution_count": 28,
   "metadata": {
    "colab": {
     "base_uri": "https://localhost:8080/"
    },
    "id": "bV4_PiS-UANM",
    "outputId": "d26de90b-47fc-49ff-b947-e8aa3ff38310"
   },
   "outputs": [
    {
     "data": {
      "text/plain": [
       "0.18846479"
      ]
     },
     "execution_count": 28,
     "metadata": {},
     "output_type": "execute_result"
    }
   ],
   "source": [
    "model.similarity('human', 'computer')"
   ]
  },
  {
   "cell_type": "code",
   "execution_count": 29,
   "metadata": {
    "colab": {
     "base_uri": "https://localhost:8080/"
    },
    "id": "vf3ihweJUGh7",
    "outputId": "a769604f-34d7-44e1-d2ab-d41d7a7fb909"
   },
   "outputs": [
    {
     "data": {
      "text/plain": [
       "[('queen', 0.7118192911148071),\n",
       " ('monarch', 0.6189674139022827),\n",
       " ('princess', 0.5902430415153503),\n",
       " ('crown_prince', 0.5499460697174072),\n",
       " ('prince', 0.5377321839332581),\n",
       " ('kings', 0.5236844420433044),\n",
       " ('Queen_Consort', 0.5235946178436279),\n",
       " ('queens', 0.5181134939193726),\n",
       " ('sultan', 0.5098593235015869),\n",
       " ('monarchy', 0.5087411403656006)]"
      ]
     },
     "execution_count": 29,
     "metadata": {},
     "output_type": "execute_result"
    }
   ],
   "source": [
    "model.most_similar(positive=[\"king\", \"woman\"], negative=[\"man\"])"
   ]
  },
  {
   "cell_type": "code",
   "execution_count": 30,
   "metadata": {
    "colab": {
     "base_uri": "https://localhost:8080/"
    },
    "id": "-FucrYuOUQVO",
    "outputId": "dfba8e2d-ac6f-425c-edce-768fb57bb0af"
   },
   "outputs": [
    {
     "data": {
      "text/plain": [
       "[('non_toxigenic_C.', 0.3579254448413849),\n",
       " ('allotransplantation', 0.3464714586734772),\n",
       " ('speciesism', 0.3178519904613495),\n",
       " ('Atlantic_salmon_Salmo', 0.29254621267318726),\n",
       " ('nonhuman_animals', 0.2893490195274353),\n",
       " ('Sus_scrofa', 0.28739628195762634),\n",
       " ('K.Kahne_###-###', 0.2862852215766907),\n",
       " ('Neurotrophic_Factor', 0.2850345969200134),\n",
       " ('palmitoleic_acid', 0.28359511494636536),\n",
       " ('unbridled_individualism', 0.2827090620994568)]"
      ]
     },
     "execution_count": 30,
     "metadata": {},
     "output_type": "execute_result"
    }
   ],
   "source": [
    "model.most_similar(positive=['human'], negative=['computer', 'time'])"
   ]
  },
  {
   "cell_type": "markdown",
   "metadata": {
    "id": "mM-LSfLZMYPy"
   },
   "source": [
    "Vom instala modulul _wikipedia_ pentru a putea accesa paginile direct din cod:"
   ]
  },
  {
   "cell_type": "code",
   "execution_count": 31,
   "metadata": {
    "colab": {
     "base_uri": "https://localhost:8080/"
    },
    "id": "ClB4fP-bniCy",
    "outputId": "df428dd3-9b81-4d93-d6cd-040e06e2d215"
   },
   "outputs": [
    {
     "name": "stdout",
     "output_type": "stream",
     "text": [
      "Collecting wikipedia\n",
      "  Downloading wikipedia-1.4.0.tar.gz (27 kB)\n",
      "  Installing build dependencies ... \u001b[?25ldone\n",
      "\u001b[?25h  Getting requirements to build wheel ... \u001b[?25ldone\n",
      "\u001b[?25h  Installing backend dependencies ... \u001b[?25ldone\n",
      "\u001b[?25h  Preparing metadata (pyproject.toml) ... \u001b[?25ldone\n",
      "\u001b[?25hCollecting beautifulsoup4 (from wikipedia)\n",
      "  Downloading beautifulsoup4-4.12.3-py3-none-any.whl.metadata (3.8 kB)\n",
      "Collecting requests<3.0.0,>=2.0.0 (from wikipedia)\n",
      "  Downloading requests-2.32.3-py3-none-any.whl.metadata (4.6 kB)\n",
      "Collecting charset-normalizer<4,>=2 (from requests<3.0.0,>=2.0.0->wikipedia)\n",
      "  Downloading charset_normalizer-3.3.2-cp312-cp312-macosx_10_9_x86_64.whl.metadata (33 kB)\n",
      "Collecting idna<4,>=2.5 (from requests<3.0.0,>=2.0.0->wikipedia)\n",
      "  Downloading idna-3.7-py3-none-any.whl.metadata (9.9 kB)\n",
      "Collecting urllib3<3,>=1.21.1 (from requests<3.0.0,>=2.0.0->wikipedia)\n",
      "  Downloading urllib3-2.2.1-py3-none-any.whl.metadata (6.4 kB)\n",
      "Collecting certifi>=2017.4.17 (from requests<3.0.0,>=2.0.0->wikipedia)\n",
      "  Downloading certifi-2024.6.2-py3-none-any.whl.metadata (2.2 kB)\n",
      "Collecting soupsieve>1.2 (from beautifulsoup4->wikipedia)\n",
      "  Downloading soupsieve-2.5-py3-none-any.whl.metadata (4.7 kB)\n",
      "Downloading requests-2.32.3-py3-none-any.whl (64 kB)\n",
      "\u001b[2K   \u001b[38;2;114;156;31m━━━━━━━━━━━━━━━━━━━━━━━━━━━━━━━━━━━━━━━━\u001b[0m \u001b[32m64.9/64.9 kB\u001b[0m \u001b[31m4.8 MB/s\u001b[0m eta \u001b[36m0:00:00\u001b[0m\n",
      "\u001b[?25hDownloading beautifulsoup4-4.12.3-py3-none-any.whl (147 kB)\n",
      "\u001b[2K   \u001b[38;2;114;156;31m━━━━━━━━━━━━━━━━━━━━━━━━━━━━━━━━━━━━━━━━\u001b[0m \u001b[32m147.9/147.9 kB\u001b[0m \u001b[31m4.9 MB/s\u001b[0m eta \u001b[36m0:00:00\u001b[0m\n",
      "\u001b[?25hDownloading certifi-2024.6.2-py3-none-any.whl (164 kB)\n",
      "\u001b[2K   \u001b[38;2;114;156;31m━━━━━━━━━━━━━━━━━━━━━━━━━━━━━━━━━━━━━━━━\u001b[0m \u001b[32m164.4/164.4 kB\u001b[0m \u001b[31m19.6 MB/s\u001b[0m eta \u001b[36m0:00:00\u001b[0m\n",
      "\u001b[?25hDownloading charset_normalizer-3.3.2-cp312-cp312-macosx_10_9_x86_64.whl (122 kB)\n",
      "\u001b[2K   \u001b[38;2;114;156;31m━━━━━━━━━━━━━━━━━━━━━━━━━━━━━━━━━━━━━━━━\u001b[0m \u001b[32m122.2/122.2 kB\u001b[0m \u001b[31m12.3 MB/s\u001b[0m eta \u001b[36m0:00:00\u001b[0m\n",
      "\u001b[?25hDownloading idna-3.7-py3-none-any.whl (66 kB)\n",
      "\u001b[2K   \u001b[38;2;114;156;31m━━━━━━━━━━━━━━━━━━━━━━━━━━━━━━━━━━━━━━━━\u001b[0m \u001b[32m66.8/66.8 kB\u001b[0m \u001b[31m9.2 MB/s\u001b[0m eta \u001b[36m0:00:00\u001b[0m\n",
      "\u001b[?25hDownloading soupsieve-2.5-py3-none-any.whl (36 kB)\n",
      "Downloading urllib3-2.2.1-py3-none-any.whl (121 kB)\n",
      "\u001b[2K   \u001b[38;2;114;156;31m━━━━━━━━━━━━━━━━━━━━━━━━━━━━━━━━━━━━━━━━\u001b[0m \u001b[32m121.1/121.1 kB\u001b[0m \u001b[31m17.5 MB/s\u001b[0m eta \u001b[36m0:00:00\u001b[0m\n",
      "\u001b[?25hBuilding wheels for collected packages: wikipedia\n",
      "  Building wheel for wikipedia (pyproject.toml) ... \u001b[?25ldone\n",
      "\u001b[?25h  Created wheel for wikipedia: filename=wikipedia-1.4.0-py3-none-any.whl size=11680 sha256=913bd353531b98282a9ffc9b66bcb22f61e4283a32b56e5194fdc10ab4693207\n",
      "  Stored in directory: /Users/AnduScheusan/Library/Caches/pip/wheels/63/47/7c/a9688349aa74d228ce0a9023229c6c0ac52ca2a40fe87679b8\n",
      "Successfully built wikipedia\n",
      "Installing collected packages: urllib3, soupsieve, idna, charset-normalizer, certifi, requests, beautifulsoup4, wikipedia\n",
      "Successfully installed beautifulsoup4-4.12.3 certifi-2024.6.2 charset-normalizer-3.3.2 idna-3.7 requests-2.32.3 soupsieve-2.5 urllib3-2.2.1 wikipedia-1.4.0\n"
     ]
    }
   ],
   "source": [
    "! pip install wikipedia"
   ]
  },
  {
   "cell_type": "markdown",
   "metadata": {
    "id": "ZPnKnhbchtLQ"
   },
   "source": [
    "1. Descarcă un articol de pe wikipedia. Înlocuiește _page\\_title_ cu un titlu de pagină de pe wikipedia:"
   ]
  },
  {
   "cell_type": "code",
   "execution_count": 35,
   "metadata": {
    "colab": {
     "base_uri": "https://localhost:8080/"
    },
    "id": "FM3ziGq8hxA2",
    "outputId": "1d1b3481-42aa-485f-c986-3f1ba8136d97"
   },
   "outputs": [
    {
     "name": "stdout",
     "output_type": "stream",
     "text": [
      "The Airbus A380 is a very large wide-body airliner that was developed and produced by Airbus. It is the world's largest passenger airliner and the only full-length double-deck jet airliner. Airbus studies started in 1988, and the project was announced in 1990 to challenge the dominance of the Boeing 747 in the long-haul market. The then-designated A3XX project was presented in 1994; Airbus launched the €9.5–billion ($10.7–billion) A380 programme on 19 December 2000. The first prototype was unveiled in Toulouse on 18 January 2005, with its first flight on 27 April 2005. It then obtained its type certificate from the European Aviation Safety Agency (EASA) and the US Federal Aviation Administration (FAA) on 12 December 2006. \n",
      "Due to difficulties with the electrical wiring, the initial production was delayed by two years and the development costs almost doubled. It was first delivered to Singapore Airlines on 15 October 2007 and entered service on 25 October. Production peaked at 30 per year in 2012 and 2014. Airbus ended production of the A380 in 2021. The A380's estimated $25 billion development cost was not recouped by the time Airbus ended production.\n",
      "The full-length double-deck aircraft has a typical seating for 525 passengers, with a maximum certified capacity for 853 passengers. The quadjet is powered by Engine Alliance GP7200 or Rolls-Royce Trent 900 turbofans providing a range of 8,000 nmi (14,800 km; 9,200 mi). As of December 2021, the global A380 fleet had completed more than 800,000 flights over 7.3 million block hours with no fatalities and no hull losses. As of December 2022, there were 237 aircraft in service with 16 operators worldwide.\n",
      "\n",
      "\n",
      "== Development ==\n",
      "\n",
      "\n",
      "=== Background ===\n",
      "\n",
      "In mid-1988, Airbus engineers, led by Jean Roeder, began work in secret on the development of an ultra-high-capacity airliner (UHCA), both to complete its own range of products and to break the dominance that Boeing had enjoyed in this market segment since the early 1970s with its 747.: 7  McDonnell Douglas unsuccessfully offered its double-deck MD-12 concept for sale. Lockheed was exploring the possibility for a Very Large Subsonic Transport. Roeder was given approval for further evaluations of the UHCA after a formal presentation to the President and CEO in June 1990.\n",
      "The megaproject was announced at the 1990 Farnborough Airshow, with the stated goal of 15% lower operating costs than the 747-400.: 16–17  Airbus organised four teams of designers, one from each of its partners (Aérospatiale, British Aerospace, Deutsche Aerospace AG, CASA) to propose new technologies for its future aircraft designs. The designs were presented in 1992 and the most competitive designs were used.: 17–18  In January 1993, Boeing and several companies in the Airbus consortium started a joint feasibility study of a Very Large Commercial Transport (VLCT), aiming to form a partnership to share the limited market.: 31 \n",
      "In June 1994, Airbus announced its plan to develop its own very large airliner, designated as A3XX. Airbus considered several designs, including an unusual side-by-side combination of two fuselages from its A340, the largest Airbus jet at the time.: 19  The A3XX was pitted against the VLCT study and Boeing's own New Large Aircraft successor to the 747. In July 1995, the joint study with Boeing was abandoned, as Boeing's interest had declined due to analysis that such a product was unlikely to cover the projected $15 billion development cost. Despite the fact that only two airlines had expressed public interest in purchasing such a plane, Airbus was already pursuing its own large-plane project. Analysts suggested that Boeing would instead pursue stretching its 747 design, and that air travel was already moving away from the hub-and-spoke system that consolidated traffic into large planes, and toward more non-stop routes that could be served by smaller planes.\n",
      "\n",
      "From 1997 to 2000, as the 1997 Asian financial crisis darkened the market outlook, Airbus refined its design, targeting a 15–20% reduction in operating costs over the existing Boeing 747-400. The A3XX design converged on a double-decker layout that provided more passenger volume than a traditional single-deck design. Airbus did so in line with traditional hub-and-spoke theory, as opposed to the point-to-point theory with the Boeing 777, after conducting an extensive market analysis with over 200 focus groups. Although early marketing of the huge cross-section touted the possibility of duty-free shops, restaurant-like dining, gyms, casinos and beauty parlours on board, the realities of airline economics have kept such dreams grounded.\n",
      "On 19 December 2000, the supervisory board of newly restructured Airbus voted to launch a €9.5 billion ($10.7 billion) project to build the A3XX, re-designated as A380, with 50 firm orders from six launch customers. The A380 designation was a break from previous Airbus families, which had progressed sequentially from A300 to A340. It was chosen because the number 8 resembles the double-deck cross section, and is a lucky number in many East Asian countries where the aircraft was being marketed. The aircraft configuration was finalised in early 2001, and manufacturing of the first A380 wing-box component started on 23 January 2002. The development cost of the A380 had grown to €11–14 billion when the first aircraft was completed.\n",
      "\n",
      "\n",
      "=== Total development cost ===\n",
      "In 2000, the projected development cost was €9.5 billion. In 2004, Airbus estimated that €1.5 billion ($2 billion) would need to be added, totalling the developmental costs to €10.3 billion ($12.7 billion). In 2006, Airbus stopped publishing its reported cost after reaching costs of €10.2 billion and then it provisioned another €4.9 billion, after the difficulties in electric cabling and two years delay for an estimated total of €18 billion.\n",
      "In 2014, the aircraft was estimated to have cost $25bn (£16bn, €18.9bn) to develop. In 2015, Airbus said development costs were €15 billion (£11.4 billion, $16.64 billion), though analysts believe the figure is likely to be at least €5bn ($5.55 Bn) more for a €20 Bn ($22.19 Bn) total. In 2016, The A380 development costs were estimated at $25 billion for 15 years, $25–30 billion, or €25 billion ($28 billion).\n",
      "To start the programme in 2000, the governments of France, Germany and the UK loaned Airbus 3.5 billion euros and refundable advances reached 5.9 billion euros ($7.3 billion).\n",
      "In February 2018, after an Emirates order secured production of the unprofitable programme for ten years, Airbus revised its deal with the three loan-giving governments to save $1.4 billion (17%) and restructured terms to lower the production rate from eight per year in 2019 to six per year.\n",
      "On 15 May 2018, in its EU appeal ruling, a WTO ruling concluded that the A380 received improper subsidies through $9 billion of launch aids, but Airbus acknowledges that the threat posed to Boeing by the A380 is so marginal with 330 orders since its 2000 launch that any U.S. sanctions should be minimal, as previous rulings showed Boeing's exposure could be as little as $377 million.\n",
      "In 2018, unit cost was US$445.6 million.\n",
      "In February 2019, the German government disclosed that it was conducting talks with Airbus regarding €600 million in outstanding loans. Following the decision to wind down the A380 programme, Europe argues that the subsidies in effect no longer exist and that no sanctions are warranted.\n",
      "\n",
      "\n",
      "=== Production ===\n",
      "\n",
      "Major structural sections of the A380 are built in France, Germany, Spain, and the United Kingdom. Due to the sections' large size, traditional transportation methods proved unfeasible, so they are brought to the Jean-Luc Lagardère Plant assembly hall in Toulouse, France, by specialised road and water transportation, though some parts are moved by the A300-600ST Beluga transport aircraft. A380 components are provided by suppliers from around the world; the four largest contributors, by value, are Rolls-Royce, Safran, United Technologies and General Electric.\n",
      "For the surface movement of large A380 structural components, a complex route known as the Itinéraire à Grand Gabarit was developed. This involved the construction of a fleet of roll-on/roll-off (RORO) ships and barges, the construction of port facilities and the development of new and modified roads to accommodate oversized road convoys. The front and rear fuselage sections are shipped on one of three RORO ships from Hamburg in northern Germany to Saint-Nazaire in France. The ship travels via Mostyn, Wales, where the wings are loaded. The wings are manufactured at Broughton in North Wales, then transported by barge to Mostyn docks for ship transport.\n",
      "\n",
      "In Saint-Nazaire, the ship exchanges the fuselage sections from Hamburg for larger, assembled sections, some of which include the nose. This ship unloads in Bordeaux. It then goes to pick up the belly and tail sections from Construcciones Aeronáuticas SA in Cádiz, Spain, and delivers them to Bordeaux. From there, the A380 parts are transported by barge to Langon, and by oversize road convoys to the assembly hall in Toulouse. To avoid damage from direct handling, parts are secured in custom jigs carried on self-powered wheeled vehicles.\n",
      "After assembly, the aircraft are flown to the Airbus Hamburg-Finkenwerder plant to be furnished and painted. Airbus sized the production facilities and supply chain for a production rate of four A380s per month.\n",
      "\n",
      "\n",
      "=== Testing ===\n",
      "\n",
      "In 2005, five A380s were built for testing and demonstration purposes. The first A380, registered F-WWOW, was unveiled in Toulouse 18 January 2005. It first flew on 27 April 2005. This plane, equipped with Rolls-Royce Trent 900 engines, flew from Toulouse–Blagnac Airport with a crew of six headed by chief test pilot Jacques Rosay. Rosay said flying the A380 had been \"like handling a bicycle\".\n",
      "On 1 December 2005, the A380 achieved its maximum design speed of Mach 0.96, (its design cruise speed is Mach 0.85) in a shallow dive. In 2006, the A380 flew its first high-altitude test at Addis Ababa Bole International Airport. It conducted its second high-altitude test at the same airport in 2009. On 10 January 2006, it flew to José María Córdova International Airport in Colombia, accomplishing the transatlantic testing, and then it went to El Dorado International Airport to test the engine operation in high-altitude airports. It arrived in North America on 6 February 2006, landing in Iqaluit, Nunavut, in Canada for cold-weather testing.\n",
      "\n",
      "On 14 February 2006, during the destructive wing strength certification test on MSN5000, the test wing of the A380 failed at 145% of the limit load, short of the required 150% level. Airbus announced modifications adding 30 kg (66 lb) to the wing to provide the required strength. On 26 March 2006, the A380 underwent evacuation certification in Hamburg. With 8 of the 16 exits randomly blocked, 853 mixed passengers and 20 crew exited the darkened aircraft in 78 seconds, less than the 90 seconds required for certification. Three days later, the A380 received European Aviation Safety Agency (EASA) and United States Federal Aviation Administration (FAA) approval to carry up to 853 passengers.\n",
      "The first A380 using GP7200 engines—serial number MSN009 and flew on 25 August 2006. On 4 September 2006, the first full passenger-carrying flight test took place. The aircraft flew from Toulouse with 474 Airbus employees on board, in a test of passenger facilities and comfort. In November 2006, a further series of route-proving flights demonstrated the aircraft's performance for 150 flight hours under typical airline operating conditions. As of 2014, the A380 test aircraft continue to perform test procedures.\n",
      "Airbus obtained type certificates for the A380-841 and A380-842 model from the EASA and FAA on 12 December 2006 in a joint ceremony at the company's French headquarters, receiving the ICAO code A388. The A380-861 model was added to the type certificate on 14 December 2007.\n",
      "\n",
      "\n",
      "=== Production and delivery delays ===\n",
      "\n",
      "Initial production of the A380 was troubled by delays attributed to the 530 km (330 mi) of wiring in each aircraft. Airbus cited as underlying causes the complexity of the cabin wiring (98,000 wires and 40,000 connectors), its concurrent design and production, the high degree of customisation for each airline, and failures of configuration management and change control. The German and Spanish Airbus facilities continued to use CATIA version 4, while British and French sites migrated to version 5. This caused overall configuration management problems, at least in part because wire harnesses manufactured using aluminium rather than copper conductors necessitated special design rules including non-standard dimensions and bend radii; these were not easily transferred between versions of the software. File conversion tools were initially developed by Airbus to help solve this problem; however, the digital mock-up was still unable to read the full technical design data. Furthermore, organisational culture was also cited as a cause of the production delays. The communication and reporting culture at the time frowned upon delivery of bad news, meaning Airbus was unable to take early actions to mitigate technical and production issues.\n",
      "Airbus announced the first delay in June 2005 and notified airlines that deliveries would be delayed by six months. This reduced the total number of planned deliveries by the end of 2009 from about 120 to 90–100. On 13 June 2006, Airbus announced a second delay, with the delivery schedule slipping an additional six to seven months. Although the first delivery was still planned before the end of 2006, deliveries in 2007 would drop to only 9 aircraft, and deliveries by the end of 2009 would be cut to 70–80 aircraft. The announcement caused a 26% drop in the share price of Airbus' parent, EADS, and led to the departure of EADS CEO Paul Dupont, Airbus CEO Gustav Humbert, and A380 programme manager Charles Champion. On 3 October 2006, upon completion of a review of the A380 programme, Airbus CEO Christian Streiff announced a third delay, pushing the first delivery to October 2007, to be followed by 13 deliveries in 2008, 25 in 2009, and the full production rate of 45 aircraft per year in 2010. The delay also increased the earnings shortfall projected by Airbus through 2010 to €4.8 billion.\n",
      "As Airbus prioritised the work on the A380-800 over the A380F, freighter orders were cancelled by FedEx and United Parcel Service, or converted to A380-800 by Emirates and ILFC. Airbus suspended work on the freighter version, but said it remained on offer, albeit without a service entry date. For the passenger version Airbus negotiated a revised delivery schedule and compensation with the 13 customers, all of which retained their orders with some placing subsequent orders, including Emirates, Singapore Airlines, Qantas, Air France, Qatar Airways, and Korean Air.\n",
      "Beginning in 2007, the A380 was considered as a potential replacement for the existing Boeing VC-25 serving as Air Force One presidential transport, but in January 2009 EADS declared that they were not going to bid for the contract, as assembling only three planes in the US would not make financial sense.\n",
      "On 13 May 2008, Airbus announced reduced deliveries for the years 2008 (12) and 2009 (21). After further manufacturing setbacks, Airbus announced its plan to deliver 14 A380s in 2009, down from the previously revised target of 18. A total of 10 A380s were delivered in 2009. In 2010, Airbus delivered 18 of the expected 20 A380s, due to Rolls-Royce engine availability problems. Airbus planned to deliver \"between 20 and 25\" A380s in 2011 before ramping up to three a month in 2012. In fact, Airbus delivered 26 units, thus outdoing its predicted output for the first time. As of July 2012, production was 3 aircraft per month. Among the production problems are challenging interiors, interiors being installed sequentially rather than concurrently as in smaller planes, and union/government objections to streamlining.\n",
      "\n",
      "\n",
      "=== Entry into service ===\n",
      "\n",
      "Nicknamed Superjumbo, the first A380, MSN003, was delivered to Singapore Airlines on 15 October 2007 and entered service on 25 October 2007 with flight number SQ380 between Singapore and Sydney. Passengers bought seats in a charity online auction paying between $560 and $100,380. Two months later, Singapore Airlines CEO Chew Choong Seng stated the A380 was performing better than either the airline or Airbus had anticipated, burning 20% less fuel per seat-mile than the airline's 747-400 fleet. Emirates' Tim Clark claimed that the A380 has better fuel economy at Mach 0.86 than at 0.83, and that its technical dispatch reliability is at 97%, the same as Singapore Airlines. Airbus is committed to reach the industry standard of 98.5%.\n",
      "Emirates was the second airline to receive the A380 and commenced service between Dubai and New York in August 2008. Qantas followed, with flights between Melbourne and Los Angeles in October 2008. By the end of 2008, 890,000 passengers had flown on 2,200 flights.\n",
      "In February 2008, the A380 became the first airliner to fly using synthetic liquid fuel. The fuel is processed from gas to liquid form (GTL fuel). The flight was 3 hours long, taking off from Filton, UK, and landing in Toulouse, France, and was a significant step in evaluating the suitability of sustainable aviation fuels.\n",
      "\n",
      "\n",
      "=== Improvements and upgrades ===\n",
      "In 2010, Airbus announced a new A380 build standard, incorporating a strengthened airframe structure and a 1.5° increase in wing twist. Airbus also offered, as an option, an improved maximum take-off weight, thus providing a better payload/range performance. Maximum take-off weight is increased by 4 t (8,800 lb), to 573 t (1,263,000 lb) and the range is extended by 100 nautical miles (190 km; 120 mi); this is achieved by reducing flight loads, partly from optimising the fly-by-wire control laws. British Airways and Emirates were the first two customers to have received this new option in 2013. Emirates asked for an update with new engines for the A380 to be competitive with the Boeing 777X around 2020, and Airbus was studying 11-abreast seating.\n",
      "In 2012, Airbus announced another increase in the A380's maximum take-off weight to 575 t (1,268,000 lb), a 6 t increase from the initial A380 variant and 2 t higher than the increased-weight proposal of 2010. This increased the range by some 150 nautical miles (280 km; 170 mi), taking its capability to around 8,350 nautical miles (15,460 km; 9,610 mi) at current payloads. The higher-weight version was offered for introduction to service early in 2013.\n",
      "\n",
      "\n",
      "=== Post-delivery problems ===\n",
      "During repairs following the Qantas Flight 32 engine failure incident, cracks were discovered in wing fittings. As a result, the European Aviation Safety Agency issued an Airworthiness Directive in January 2012 which affected 20 A380 aircraft that had accumulated over 1,300 flights. A380s with under 1,800 flight hours were to be inspected within 6 weeks or 84 flights; aircraft with over 1,800 flight hours were to be examined within four days or 14 flights. Fittings found to be cracked were replaced. On 8 February 2012, the checks were extended to cover all 68 A380 aircraft in operation. The problem is considered to be minor and is not expected to affect operations. EADS acknowledged that the cost of repairs would be over $130 million, to be borne by Airbus. The company said the problem was traced to stress and material used for the fittings. Additionally, major airlines are seeking compensation from Airbus for revenue lost as a result of the cracks and subsequent grounding of fleets. Airbus has switched to a different type of aluminium alloy so aircraft delivered from 2014 onwards should not have this problem.\n",
      "Around 2014, Airbus changed about 10% of all A380 doors, as some leaked during flight. One occurrence resulted in dropped oxygen masks and an emergency landing. The switch was estimated to cost over €100 million. Airbus stated that safety was sufficient, as the air pressure pushed the door into the frame.\n",
      "\n",
      "\n",
      "=== Further continuation of programme ===\n",
      "At the July 2016 Farnborough Airshow, Airbus announced that in a \"prudent, proactive step\", starting in 2018, it expected to deliver 12 A380 aircraft per year, down from 27 deliveries in 2015. The firm also warned production might slip back into red ink (be unprofitable) on each aircraft produced at that time, though it anticipated production would remain in the black (profitable) for 2016 and 2017. \"The company will continue to improve the efficiency of its industrial system to achieve breakeven at 20 aircraft in 2017 and targets additional cost reduction initiatives to lower breakeven further.\" Airbus expected that healthy demand for its other aircraft would allow it to avoid job losses from the cuts.\n",
      "\n",
      "As Airbus expected to build 15 airliners in 2017 and 12 in 2018, Airbus Commercial Aircraft president Fabrice Brégier said that, without orders in 2017, production would be reduced to below one per month while remaining profitable per unit and allowing the programme to continue for 20 to 30 years.\n",
      "In its 2017 half-year report, Airbus adjusted 2019 deliveries to eight aircraft.\n",
      "In November 2017, its chief executive Tom Enders was confident Airbus would still produce A380s in 2027 with more sales to come, and further develop it to keep it competitive beyond 2030. Airbus was profitable at a rate of 15 per year and is trying to drive breakeven down further but will take losses at eight per year.\n",
      "An order from Emirates for 36 A380s would have ensured production beyond 2020, but the airline wanted guarantees that production would be maintained for 10 years, until 2028: reducing output to six a year would help to bridge that period and would support second-hand values while other buyers are approached, but the programme would still be unprofitable. If it had failed to win the Emirates order, Airbus claimed that it was ready to phase out its production gradually as it fulfilled remaining orders until the early 2020s. In January 2018, Emirates confirmed the order for 36 A380s, but the deal was thrown back into question in October 2018 over a disagreement regarding engine fuel burn.\n",
      "To extend the programme, Airbus offered China a production role in early 2018. While state-owned Chinese airlines could order A380s, it would not help their low yield, as it lowers frequency; they do not need more volume as widebody aircraft are already used on domestic routes and using the A380 on its intended long-haul missions would free only a few airport slots.\n",
      "After achieving efficiencies to sustain production at a lower level, in 2017, Airbus delivered 15 A380s and was \"very close\" to production breakeven, expecting to make additional savings as production was being further reduced: it planned to deliver 12 in 2018, eight in 2019 and six per year from 2020 with \"digestible\" losses.\n",
      "As of February 2018, Enders was confident the A380 would gain additional orders from existing or new operators, and saw opportunities in Asia and particularly in China where it is \"under-represented\".\n",
      "In 2019, Lufthansa had retired 6 of its 14 A380s due to their unprofitability. Later that year, Qatar Airways announced a switch from the A380 to the Boeing 777X starting from 2024.\n",
      "\n",
      "\n",
      "=== End of production ===\n",
      "\n",
      "In February 2019, Airbus announced it would end A380 production by 2021, after its main customer, Emirates, agreed to drop an order for 39 of the aircraft, replacing it with 40 A330-900s and 30 A350-900s. At the time of the announcement, Airbus had 17 more A380s on its order book to complete before closing the production line – 14 for Emirates and three for All Nippon Airways – taking the total number of expected deliveries of the aircraft type to 251. Airbus would have needed more than $90 million profit from the sale of each aircraft to cover the estimated $25 billion development cost of the programme. However, the $445 million price tag of each aircraft was not sufficient to even cover the production cost, so with Airbus losing money on each A380, and with orders evaporating, it made economic sense to cease production. Enders stated on 14 February 2019, \"If you have a product that nobody wants anymore, or you can sell only below production cost, you have to stop it.\"\n",
      "One reason that the A380 did not achieve commercial viability for Airbus has been attributed to its extremely large capacity being optimised for a hub-and-spoke system, which was projected by Airbus to be thriving when the programme was conceived. However, airlines underwent a fundamental transition to a point-to-point system, which gets customers to their destination in one flight instead of two or three. The massive scale of the A380 design was able to achieve a very low cost for passenger seat-distance, but efficiency within the hub-and-spoke paradigm was not able to overcome the efficiency of fewer flights required in the point-to-point system. Specifically, US based carriers had been using a multihub strategy, which only justified the need for a handful of VLAs (very large aircraft with more than 400 seats) such as the A380, and having too few VLAs meant that they could not achieve economy of scale to spread out the enormous fixed cost of the VLA support infrastructure. Consequently, orders for VLAs slowed in the mid 2010s, as widebody twin jets now offer similar range and greater fuel efficiency, giving airlines more flexibility at a lower upfront cost.\n",
      "On 25 September 2020, Airbus completed assembly of the final A380 fuselage. Nine aircraft remained to be delivered (eight for Emirates, one for All Nippon Airways) and production operations continued to finish those aircraft. On 17 March 2021, the final Airbus A380 (manufacturing serial number 272) made its maiden flight from Toulouse to Hamburg for cabin outfitting, before being delivered to Emirates on 16 December 2021.\n",
      "\n",
      "\n",
      "== Design ==\n",
      "\n",
      "\n",
      "=== Overview ===\n",
      "The A380 was initially offered in two models: the A380-800 and the A380F.\n",
      "The A380-800's original configuration carried 555 passengers in a three-class configuration or 853 passengers (538 on the main deck and 315 on the upper deck) in a single-class economy configuration. Then in May 2007, Airbus began marketing a configuration with 30 fewer passengers (525 total in three classes)—traded for 200 nmi; 230 mi (370 km) more range—to better reflect trends in premium-class accommodation. The design range for the A380−800 model is 8,500 nmi (15,700 km); capable of flying from Hong Kong to New York or from Sydney to Istanbul non-stop. The A380 is designed for 19,000 cycles.\n",
      "The second model, the A380F freighter, would have carried 150 t (330,000 lb) of cargo over a range of 5,600 nmi (10,400 km; 6,400 mi). Freighter development was put on hold as Airbus prioritised the passenger version, and all orders for freighters were cancelled.\n",
      "Other proposed variants included an A380-900 stretch – seating about 656 passengers (or up to 960 passengers in an all-economy configuration) – and an extended-range version with the same passenger capacity as the A380-800.\n",
      "\n",
      "\n",
      "=== Engines ===\n",
      "\n",
      "The A380 is offered with the Rolls-Royce Trent 900 (A380-841/-842) or the Engine Alliance GP7000 (A380-861) turbofan engines.\n",
      "The Trent 900 is a combination of the 3 m (118 in) fan and scaled IP compressor of the 777-200X/300X Trent 8104 technology demonstrator derived from the Boeing 777's Trent 800, and the Airbus A340-500/600's Trent 500 core.\n",
      "The GP7200 HP core technology is derived from GE's GE90 and its LP sections are based on the PW4000 expertise.\n",
      "At its launch in 2000, engine makers assured Airbus it was getting the best level of technology and they would be state-of-the-art for the next decade, but three years later Boeing launched the 787 Dreamliner with game-changing technology and 10% lower fuel burn than the previous generation, to the dismay of John Leahy.\n",
      "Due to its modern engines and aerodynamic improvements, Lufthansa's A380s produce half the noise of the Boeing 747-200 while carrying 160 more passengers. In 2012, the A380 received an award from the Noise Abatement Society.\n",
      "London Heathrow is a key destination for the A380.\n",
      "The aircraft is below the QC/2 departure and QC/0.5 arrival noise limits under the Quota Count system set by the airport. Field measurements suggest the approach quota allocation for the A380 may be excessively generous compared to the older Boeing 747, but still quieter. Rolls-Royce is supporting the CAA in understanding the relatively high A380/Trent 900 monitored noise levels. Heathrow's landing charges having a noise component, the A380 is cheaper to land there than a Boeing 777-200 and -300 and it saves $4,300 to $5,200 per landing, or $15.3M to $18.8M of present value over 15 years. Tokyo Narita has a similar noise charge.\n",
      "The A380 has thrust reversers on the inboard engines only. The outboard engines lack them, reducing the amount of debris stirred up during landing. The combination of wheel braking and large spoilers and flaps reduces the aircraft's reliance on thrust reversal. The reversers are electrically actuated to save weight, and for greater reliability than pneumatic or hydraulic equivalents. Having reversers on only two engines also saves a great deal of maintenance expense for operators as well as avoiding unnecessary weight to the outboard engines.\n",
      "\n",
      "\n",
      "=== Wings ===\n",
      "\n",
      "The A380's wings are built for a maximum takeoff weight (MTOW) over 600 tonnes to accommodate larger variants—the A380F freighter would require added internal strengthening. The optimal wingspan for such an MTOW is about 90 m (300 ft) but airport restrictions of 80 m (260 ft) force the A380 to compensate with a longer chord for an aspect ratio of 7.8. This suboptimal aspect ratio reduces fuel efficiency by about 10% and increases operating costs several percent, considering fuel costs constitute about 50% of the cost of long-haul aeroplane operation. The common wing design approach sacrifices fuel efficiency on the A380-800 passenger model in particular because its lower MTOW allows for a higher aspect ratio with a shorter chord or thinner wing.\n",
      "Still, Airbus estimated that the A380's size and advanced technology would provide lower operating costs per passenger than the 747-400. The wings incorporate wingtip fences that extend above and below the wing surface, similar to those on the A310 and A320. These increase fuel efficiency and range by reducing induced drag. The wingtip fences also reduce wake turbulence, which endangers following aircraft. The wings of the A380 were designed in Filton and manufactured in Broughton in the United Kingdom. The wings were then transported to the harbour of Mostyn, where they were transported by barge to Toulouse, France, for integration and final assembly with the rest of the aircraft and its components.\n",
      "Singapore Airlines describe the A380's landing speed of 130–135 kn (240–250 km/h) as \"impressively slow\".\n",
      "\n",
      "\n",
      "=== Materials ===\n",
      "While most of the fuselage is made of aluminium alloys, composite materials comprise more than 20% of the A380's airframe. Carbon-fibre reinforced plastic, glass-fibre reinforced plastic and quartz-fibre reinforced plastic are used extensively in wings, fuselage sections (such as the undercarriage and rear end of fuselage), tail surfaces, and doors. The A380 is the first commercial airliner to have a central wing box made of carbon–fibre reinforced plastic. It is also the first to have a smoothly contoured wing cross–section. The wings of other commercial airliners are partitioned span-wise into sections. This flowing continuous cross section reduces aerodynamic drag. Thermoplastics are used in the leading edges of the slats.\n",
      "The hybrid fibre metal laminate material GLARE (glass laminate aluminium reinforced epoxy) is used in the upper fuselage and on the stabilisers' leading edges. This aluminium-glass-fibre laminate is lighter and has better corrosion and impact resistance than conventional aluminium alloys used in aviation. Unlike earlier composite materials, GLARE can be repaired using conventional aluminium repair techniques.\n",
      "Newer weldable aluminium alloys are used in the A380's airframe. This enabled the widespread use of laser beam welding manufacturing techniques, eliminating rows of rivets and resulting in a lighter, stronger structure. High-strength aluminium (type 7449) reinforced with carbon fibre was used in the wing brackets of the first 120 A380s to reduce weight, but cracks were discovered and newer sets of the more critical brackets are made of standard aluminium 7010, increasing weight by 90 kg (198 lb). Repair costs for earlier aircraft were expected to be around €500 million (US$629 million).\n",
      "It takes 3,600 L (950 US gal) of paint to cover the 3,100 m2 (33,000 sq ft) exterior of an A380. The paint is five layers thick and weighs about 650 kg (1,433 lb) when dry.\n",
      "\n",
      "\n",
      "=== Avionics ===\n",
      "The A380 employs an integrated modular avionics (IMA) architecture, first used in advanced military aircraft, such as the Lockheed Martin F-22 Raptor, Lockheed Martin F-35 Lightning II, and Dassault Rafale. The main IMA systems on the A380 were developed by the Thales Group. Designed and developed by Airbus, Thales and Diehl Aerospace, the IMA suite was first used on the A380. The suite is a technological innovation, with networked computing modules to support different applications. The data networks use Avionics Full-Duplex Switched Ethernet, an implementation of ARINC 664. These are switched, full-duplex, star-topology and based on 100baseTX fast-Ethernet. This reduces the amount of wiring required and minimises latency.\n",
      "\n",
      "Airbus used similar cockpit layout, procedures and handling characteristics to other Airbus aircraft, reducing crew training costs. The A380 has an improved glass cockpit, using fly-by-wire flight controls linked to side-sticks. The cockpit has eight 15 by 20 cm (5.9 by 7.9 in) liquid crystal displays, all physically identical and interchangeable; comprising two primary flight displays, two navigation displays, one engine parameter display, one system display and two multi-function displays. The MFDs were introduced on the A380 to provide an easy-to-use interface to the flight management system—replacing three multifunction control and display units. They include QWERTY keyboards and trackballs, interfacing with a graphical \"point-and-click\" display system.\n",
      "The Network Systems Server (NSS) is the heart of A380s paperless cockpit; it eliminates bulky manuals and traditional charts. The NSS has enough inbuilt robustness to eliminate onboard backup paper documents. The A380s network and server system stores data and offers electronic documentation, providing a required equipment list, navigation charts, performance calculations, and an aircraft logbook. This is accessed through the MFDs and controlled via the keyboard interface.\n",
      "\n",
      "\n",
      "=== Systems ===\n",
      "\n",
      "Power-by-wire flight control actuators have been used for the first time in civil aviation to back up primary hydraulic actuators. Also, during certain manoeuvres they augment the primary actuators. They have self-contained hydraulic and electrical power supplies. Electro-hydrostatic actuators (EHA) are used in the aileron and elevator, electric and hydraulic motors to drive the slats as well as electrical backup hydrostatic actuators (EBHA) for the rudder and some spoilers.\n",
      "The A380's 350 bar (35 MPa or 5,000 psi) hydraulic system is a significant difference from the typical 210 bar (21 MPa or 3,000 psi) hydraulics used on most commercial aircraft since the 1940s. First used in military aircraft, high-pressure hydraulics reduce the weight and size of pipelines, actuators and related components. The 350 bar pressure is generated by eight de-clutchable hydraulic pumps. The hydraulic lines are typically made from titanium; the system features both fuel- and air-cooled heat exchangers. Self-contained electrically powered hydraulic power packs serve as backups for the primary systems, instead of a secondary hydraulic system, saving weight and reducing maintenance.\n",
      "The A380 uses four 150 kVA variable-frequency electrical generators, eliminating constant-speed drives and improving reliability. The A380 uses aluminium power cables instead of copper for weight reduction. The electrical power system is fully computerised and many contactors and breakers have been replaced by solid-state devices for better performance and increased reliability.\n",
      "The auxiliary power comprises the Auxiliary Power Unit (APU), the electronic control box (ECB), and mounting hardware. The APU in use on the A380 is the 1,300 kW PW 980A APU. The APU primarily provides air to power the Analysis Ground Station (AGS) on the ground and to start the engines. The AGS is a semi-automatic analysis system of flight data that helps to optimise management of maintenance and reduce costs. The APU also powers two 120 kVA electric generators that provide auxiliary electric power to the aircraft. There is also a ram air turbine (RAT) with a 70 kVA generator.\n",
      "\n",
      "\n",
      "=== Passenger provisions ===\n",
      "\n",
      "The A380-800's cabin has 550 square metres (5,920 sq ft) of usable floor space, 40% more than the next largest airliner, the Boeing 747-8.\n",
      "The cabin has features to reduce traveller fatigue such as a quieter interior and higher pressurisation than previous generations of aircraft; the A380 is pressurised to the equivalent altitude of 1,520 m (5,000 ft) up to 12,000 m (39,000 ft).: 129  It has 50% less cabin noise, 50% more cabin area and volume, larger windows, bigger overhead bins, and 60 cm (2.0 ft) more headroom than the 747-400. Seating options range from 3-room 12 m2 (130 sq ft) \"residence\" in first class to 11-across in economy. A380 economy seats are up to 48 cm (19 in) wide in a 10-abreast configuration, compared with the 10-abreast configuration on the 747-400 that typically has seats 44.5 cm (17.5 in) wide. On other aircraft, economy seats range from 41.5 to 52.3 cm (16.3 to 20.6 in) in width.\n",
      "The A380's upper and lower decks are connected by two stairways, one fore and one aft, both wide enough to accommodate two passengers side by side; this cabin arrangement allows multiple seat configurations. The maximum certified carrying capacity is 853 passengers in an all-economy-class layout, Airbus lists the \"typical\" three-class layout as accommodating 525 passengers, with 10 first, 76 business, and 439 economy class seats. Airline configurations range from Korean Air's 407 passengers to Emirates' two-class 615 seats and average around 480–490 seats. Air Austral's proposed 840 passenger layout has not come to fruition. The A380's interior illumination system uses bulbless LEDs in the cabin, cockpit, and cargo decks. The LEDs in the cabin can be altered to create an ambience simulating daylight, night, or intermediate levels. On the outside of the aircraft, HID lighting is used for brighter illumination.\n",
      "Airbus's publicity has stressed the comfort and space of the A380 cabin, and advertised onboard relaxation areas such as bars, beauty salons, duty-free shops, and restaurants. Proposed amenities resembled those installed on earlier airliners, particularly 1970s wide-body jets, which largely gave way to regular seats for greater passenger capacity. Airbus has acknowledged that some cabin proposals were unlikely to be installed, and that it was ultimately the airlines' decision how to configure the interior. Industry analysts suggested that implementing customisation has slowed the production speeds, and raised costs. Due to delivery delays, Singapore Airlines and Air France debuted their seat designs on different aircraft prior to the A380.\n",
      "Initial operators typically configured their A380s for three-class service, while adding extra features for passengers in premium cabins. Launch customer Singapore Airlines introduced partly enclosed first-class suites on its A380s in 2007, each featuring a leather seat with a separate bed; center suites could be joined to create a double bed. A year later, Qantas debuted a new first-class seat-bed and a sofa lounge at the front of the upper deck on its A380s, and in 2009, Air France unveiled an upper deck electronic art gallery. In late 2008, Emirates introduced \"shower spas\" in first class on its A380s allowing each first class passenger five minutes of hot water, drawing on 2.5 tonnes of water, although only 60% of it was used.\n",
      "Etihad Airways and Qatar Airways also have a bar lounge and seating area on the upper deck, while Etihad has enclosed areas for two people each. In addition to lounge areas, some A380 operators have installed amenities consistent with other aircraft in their respective fleets, including self-serve snack bars, premium economy sections, and redesigned business-class seating.\n",
      "The Hamburg Aircraft Interiors Expo in April 2015 saw the presentation of an 11-seat row economy cabin for the A380.  Airbus is reacting to a changing economy; the recession which began in 2008 saw a drop in market percentage of first class and business seats to six percent and an increase in budget economy travellers. Among other causes is the reluctance of employers to pay for executives to travel in First or Business Class. Airbus' chief of cabin marketing, Ingo Wuggestzer, told Aviation Week and Space Technology that the standard three-class cabin no longer reflected market conditions. The 11-seat row on the A380 is accompanied by similar options on other widebodies: nine across on the Airbus A330 and ten across on the A350.\n",
      "\n",
      "\t\t\n",
      "\t\t\t\n",
      "\t\t\t\n",
      "\t\t\n",
      "\t\t\n",
      "\t\t\t\n",
      "\t\t\t\n",
      "\t\t\n",
      "\t\t\n",
      "\t\t\t\n",
      "\t\t\t\n",
      "\t\t\n",
      "\t\t\n",
      "\t\t\t\n",
      "\t\t\t\n",
      "\t\t\n",
      "\n",
      "\n",
      "=== Integration with infrastructure and regulations ===\n",
      "\n",
      "\n",
      "==== Ground operations ====\n",
      "\n",
      "In the 1990s, aircraft manufacturers were planning to introduce larger planes than the Boeing 747. In a common effort of the International Civil Aviation Organization (ICAO) with manufacturers, airports and its member agencies, the \"80-metre box\" was created, the airport gates allowing planes up to 80 m (260 ft) wingspan and length to be accommodated. Airbus designed the A380 according to these guidelines, and to operate safely on Group V runways and taxiways with a 60 metres (200 ft) loadbearing width. The US FAA initially opposed this, then in July 2007, the FAA and EASA agreed to let the A380 operate on 45 m (148 ft) runways without restrictions. The A380-800 is approximately 30% larger in overall size than the 747-400. Runway lighting and signage may need changes to provide clearance to the wings and avoid blast damage from the engines. Runways, runway shoulders and taxiway shoulders may be required to be stabilised to reduce the likelihood of foreign object damage caused to (or by) the outboard engines, which are more than 25 m (82 ft) from the centre line of the aircraft, compared to 21 m (69 ft) for the 747-400, and 747-8.\n",
      "Airbus measured pavement loads using a 540-tonne (595 short tons) ballasted test rig, designed to replicate the landing gear of the A380. The rig was towed over a section of pavement at Airbus's facilities that had been instrumented with embedded load sensors. It was determined that the pavement of most runways will not need to be reinforced despite the higher weight, as it is distributed on more wheels than in other passenger aircraft with a total of 22 wheels (that is, its ground pressure is lower). The A380 undercarriage consists of four main landing gear legs and one noseleg (a layout similar to that of the 747), with the two inboard landing gear legs each supporting six wheels.\n",
      "The A380 requires service vehicles with lifts capable of reaching the upper deck, as well as tractors capable of handling the A380's maximum ramp weight. When using two jetway bridges the boarding time is 45 min, and when using an extra jetway to the upper deck it is reduced to 34 min. The A380 has an airport turnaround time of 90–110 minutes. In 2008, the A380 test aircraft were used to trial the modifications made to several airports to accommodate the type.\n",
      "\n",
      "\n",
      "==== Takeoff and landing separation ====\n",
      "\n",
      "As of 2023, the A380 is the only aircraft in wake turbulence category Super (J).\n",
      "In 2005, the ICAO recommended that provisional separation criteria for the A380 on takeoff and landing be substantially greater than for the 747 because preliminary flight test data suggested a stronger wake turbulence. These criteria were in effect while the ICAO's wake vortex steering group, with representatives from the JAA, Eurocontrol, the FAA, and Airbus, refined its 3-year study of the issue with additional flight testing. In September 2006, the working group presented its first conclusions to the ICAO.\n",
      "In November 2006, the ICAO issued new interim recommendations. Replacing a blanket 10 nautical miles (19 km; 12 mi) separation for aircraft trailing an A380 during approach, the new distances were 6 nmi (11 km; 6.9 mi), 8 nmi (15 km; 9.2 mi) and 10 nmi (19 km; 12 mi) respectively for non-A380 \"Heavy\", \"Medium\", and \"Light\" ICAO aircraft categories. These compared with the 4 nmi (7.4 km; 4.6 mi), 5 nmi (9.3 km; 5.8 mi) and 6 nmi (11 km; 6.9 mi) spacing applicable to other \"Heavy\" aircraft. Another A380 following an A380 should maintain a separation of 4 nmi (7.4 km). On departure behind an A380, non-A380 \"Heavy\" aircraft are required to wait two minutes, and \"Medium\"/\"Light\" aircraft three minutes for time based operations. The ICAO also recommends that pilots append the term \"Super\" to the aircraft's callsign when initiating communication with air traffic control, to distinguish the A380 from \"Heavy\" aircraft.\n",
      "In August 2008, the ICAO issued revised approach separations of 4 nmi (7.4 km; 4.6 mi) for Super (another A380), 6 nmi (11 km; 6.9 mi) for Heavy, 7 nmi (13 km; 8.1 mi) for medium/small, and 8 nmi (15 km; 9.2 mi) for light. In November 2008, an incident on a parallel runway during crosswinds made the Australian authorities change procedures for those conditions.\n",
      "\n",
      "\n",
      "==== Maintenance ====\n",
      "As the A380 fleet grows older, airworthiness authority rules require certain scheduled inspections from approved aircraft tool shops. The increasing fleet size (at the time projected to reach 286 aircraft in 2020) cause expected maintenance and modification to cost $6.8 billion for 2015–2020, of which $2.1 billion are for engines.  Emirates performed its first 3C-check for 55 days in 2014. During lengthy shop stays, some airlines will use the opportunity to install new interiors.\n",
      "\n",
      "\n",
      "== Operational history ==\n",
      "In February 2009, the one millionth passenger was flown with Singapore Airlines and by May of that year 1,500,000 passengers had flown on 4,200 flights. Air France received its first A380 in October 2009. Lufthansa received its first A380 in May 2010. By July 2010, the 31 A380s then in service had transported 6 million passengers on 17,000 flights between 20 international destinations.\n",
      "Airbus delivered the 100th A380 on 14 March 2013 to Malaysia Airlines. In June 2014, over 65 million passengers had flown the A380, and more than 100 million passengers (averaging 375 per flight) by September 2015, with an availability of 98.5%. In 2014, Emirates stated that its A380 fleet had load factors of 90–100%, and that the popularity of the aircraft with its passengers had not decreased in the past year.\n",
      "On 16 December 2021, the largest customer Emirates received its 123rd A380 in Hamburg, which was the 251st and the last Superjumbo delivered by Airbus. The airline's strategy has enabled A380 teams to develop new innovations on an ongoing basis and improve the aircraft's operational performance by up to 99.3%, a level never seen before on a quadjet airliner. Many of the innovations developed on the Emirates A380 cabin were a first for Airbus, such as the first class showers, lighting scenarios and the recent premium economy cabin. The close collaboration has shaped the identity of the A380 over the years and continues to transform the passenger experience today.\n",
      "By December 2021, the global A380 fleet had carried over 300 million passengers to more than 70 destinations and completed more than 800,000 flights over 7.3 million block hours with 99 percent operational reliability and no hull-loss accidents. Over 50% of A380 capacity is from/to/within the Asia-Pacific region, of which around 15% is on regional flights within Asia (OAG 2017).\n",
      "\n",
      "\n",
      "== Variants proposed but not produced ==\n",
      "\n",
      "\n",
      "=== A380F ===\n",
      "\n",
      "Airbus offered a cargo aircraft variant, called the A380F, since at least June 2005, capable of transporting a 150 t (330,000 lb) maximum payload over a 5,600 nmi (10,400 km; 6,400 mi) range. It would have had 7% better payload and better range than the Boeing 747-8F, but also higher trip costs. It would have the largest payload capacity of any freighter aircraft except the Antonov An-225 Mriya.\n",
      "Production was suspended until the A380 production lines had settled, with no firm availability date. The A380F was displayed on the Airbus website until at least January 2013, but was not anymore in April.\n",
      "A patent for a \"combi\" version was applied for. This version would offer the flexibility of carrying both passengers and cargo, along with being rapidly reconfigurable to expand or contract the cargo area and passenger area as needed for a given flight.\n",
      "\n",
      "\n",
      "=== A380 Stretch, A380-900 ===\n",
      "At launch in December 2000, a 656-seat A380-200 was proposed as a derivative of the 555-seat baseline, called the A380 Stretch.\n",
      "In November 2007, Airbus top sales executive and chief operating officer John Leahy confirmed plans for another enlarged variant—the A380-900—with more seating space than the A380-800. The A380-900 would have had a seating capacity for 650 passengers in standard configuration and for approximately 900 passengers in an economy-only configuration. Airlines that expressed an interest in the A380-900 included Emirates, Virgin Atlantic, Cathay Pacific, Air France, KLM, Lufthansa, Kingfisher Airlines, and leasing company ILFC. In May 2010, Airbus announced that A380-900 development would be postponed until production of the A380-800 stabilised.\n",
      "On 11 December 2014, at the annual Airbus Investor Day forum, Airbus CEO Fabrice Bregier controversially announced, \"We will one day launch an A380neo and one day launch a stretched A380\". This statement followed speculation sparked by Airbus CFO Harald Wilhelm that Airbus could possibly axe the A380 ahead of its time due to softening demand.\n",
      "On 15 June 2015, John Leahy, Airbus's chief operating officer for customers, stated that Airbus was again looking at the A380-900 programme. Airbus's newest concept would be a stretch of the A380-800 offering 50 seats more—not 100 seats as originally envisaged. This stretch would be tied to a potential re-engining of the A380-800. According to Flight Global, an A380-900 would make better use of the A380's existing wing.\n",
      "\n",
      "\n",
      "=== A380neo ===\n",
      "On 15 June 2015, Reuters reported that Airbus was discussing an improved and stretched version of the A380 with at least six customers.  The aircraft, called the A380neo, featured new engines and would accommodate an additional fifty passengers.  Deliveries to customers were planned for sometime in 2020 or 2021. On 19 July 2015, Airbus CEO Fabrice Brégier stated that the company will build a new version of the A380 featuring new improved wings and new engines. Speculation about the development of a so-called A380neo (\"neo\" for \"new engine option\") had been going on for a few months after earlier press releases in 2014, and in 2015, the company was considering whether to end production of the type prior to 2018 or develop a new A380 variant. Later it was revealed that Airbus was looking at both the possibility of a longer A380 in line of the previously planned A380-900 and a new engine version, i.e. A380neo. Brégier also revealed that the new variant would be ready to enter service by 2020. The engine would most likely be one of a variety of all-new options from Rolls-Royce, ranging from derivatives of the A350's XWB-84/97 to the future Advance project due at around 2020.\n",
      "On 3 June 2016, Emirates President Tim Clark stated that talks between Emirates and Airbus on the A380neo have \"lapsed\". On 12 June 2017, Fabrice Brégier confirmed that Airbus would not launch an A380neo, stating \"...there is no business case to do that, this is absolutely clear.\" However, Brégier stated it would not stop Airbus from looking at what could be done to improve the performance of the aircraft. One such proposal is a 32 ft (9.8 m) wingspan extension to reduce drag and increase fuel efficiency by 4%, though further increase is likely to be seen on the aircraft with new Sharklets like on the A380plus.\n",
      "Tim Clark stated the proposed re-engining would have offered a 12-14% fuel-burn reduction with an enhanced Trent XWB.\n",
      "In June 2023, despite A380 production having ceased, Clark renewed his plea for a re-engined A380neo, suggesting that a next-generation Rolls-Royce UltraFan could give a 25% reduction in fuel burn and emissions.\n",
      "\n",
      "\n",
      "=== A380plus ===\n",
      "\n",
      "At the June 2017 Paris Air Show, Airbus proposed an enhanced variant, called the A380plus, with 13% lower costs per seat, featuring up to 80 more seats through better use of cabin space, split scimitar winglets and wing refinements allowing a 4% fuel economy improvement, and longer aircraft maintenance intervals with less downtime. The A380plus' maximum takeoff weight would have been increased by 3 t (6,600 lb) to 578 t (1,274,000 lb), allowing it to carry more passengers over the same 8,200 nmi (15,200 km; 9,400 mi) range or increase the range by 300 nmi (560 km; 350 mi).\n",
      "Winglet mockups, 4.7 m (15 ft 5 in) high, were displayed on the MSN04 test aircraft at Le Bourget. Wing twist would have been modified and camber changed by increasing its height by 33 millimetres (1+1⁄4 in) between Rib 10 and Rib 30, along with upper-belly fairing improvements. The in-flight entertainment, the flight management system and the fuel pumps would be from the A350 to reduce weight and improve reliability and fuel economy. Light checks for the A380plus would be required after 1,000 h instead of 750 h and heavy check downtime would be reduced to keep the aircraft flying for six days more per year.\n",
      "\n",
      "\n",
      "== Market ==\n",
      "\n",
      "\n",
      "=== Size ===\n",
      "In its 2000 Global Market Forecast, Airbus estimated a demand for 1,235 passenger Very Large Aircraft (VLA), with more than 400 seats: 360 up to 2009 and 875 by 2019.\n",
      "In late 2003, Boeing forecast 320 \"Boeing 747 and larger\" passenger aircraft over 20 years, close to the 298 orders actually placed for the A380 and 747-8 passenger airliners as of March 2020.\n",
      "In 2007, Airbus estimated a demand for 1,283 VLAs in the following 20 years if airport congestion remains constant, up to 1,771 VLAs if congestion increases, with most deliveries (56%) in Asia-Pacific, and 415 very large, 120-tonne plus freighters. For the same period, Boeing was estimating the demand for 590 large (747 or A380) passenger airliners and 630 freighters.\n",
      "Estimates for the total over a twenty-year period have varied from 400 to over 1,700.\n",
      "\n",
      "\n",
      "=== Frequency and capacity ===\n",
      "In 2013, Cathay Pacific and Singapore Airlines needed to balance frequency and capacity. China Southern struggled for two years to use its A380s from Beijing, and finally received Boeing 787s in its base in Guangzhou, but where it cannot command a premium, unlike Beijing or Shanghai. In 2013, Air France withdrew A380 services to Singapore and Montreal and switched to smaller aircraft.\n",
      "In 2014, British Airways replaced three 777 flights between London and Los Angeles with two A380 per day. Emirates' Tim Clark saw a large potential for East Asian A380-users, and criticised Airbus' marketing efforts. As many business travellers prefer more choices offered by greater flight frequency achieved by flying any given route multiple times on smaller aircraft, rather than fewer flights on larger planes, United Airlines observed the A380 \"just doesn't really work for us\" with a much higher trip cost than the Boeing 787.\n",
      "At the A380 launch, most Europe-Asia and transpacific routes used Boeing 747-400s at fairly low frequencies but, since then, routes proliferated with open skies, and most airlines downsized, offering higher frequencies and more routes.\n",
      "The huge capacity offered by each flight eroded the yield: North America was viewed as 17% of the market but the A380 never materialised as a 747 replacement, with only 15 747s remaining in passenger service in November 2017 for transpacific routes, where time zones restrict potential frequency. Consolidation changed the networks, and US majors constrained capacity and emphasised daily frequencies for business traffic with midsize widebodies like the 787, to extract higher yields; the focus being on profits, with market share ceded to Asian carriers.\n",
      "The 747 was largely replaced on transatlantic flights by the 767, and on the transpacific flights by the 777; newer, smaller aircraft with similar seat-mile costs have lower trip costs and allow more direct routes.\n",
      "Cabin 'densification', to lower unit costs, could aggravate this overcapacity.\n",
      "\n",
      "\n",
      "=== Production ===\n",
      "In 2005, 270 sales were necessary to attain break-even and with 751 expected deliveries its internal rate of return outlook was at 19%, but due to disruptions in the ramp-up leading to overcosts and delayed deliveries, it increased to 420 in 2006. In 2010, EADS CFO Hans Peter Ring said that break-even could be achieved by 2015 when 200 deliveries were projected. In 2012, Airbus clarified that the aircraft production costs would be less than its sales price.\n",
      "On 11 December 2014, Airbus chief financial officer Harald Wilhelm hinted the possibility of ending the programme in 2018, disappointing Emirates president Tim Clark. Airbus shares fell down consequently. Airbus responded to the protests by playing down the possibility the A380 would be abandoned, instead emphasising that enhancing the aeroplane was a likelier scenario. On 22 December 2014, as the jet was about to break even, Airbus CEO Fabrice Brégier ruled out cancelling it.\n",
      "Ten years after its first flight, Brégier said it was \"almost certainly introduced ten years too early\". While no longer losing money on each plane sold, Airbus admits that the company will never recoup the $25 billion investment it made in the project.\n",
      "Airbus consistently forecast 1,400 VLA demand over 20-year, still in 2017, and aimed to secure a 50% share, up to 700 units, but delivered 215 aircraft in 10 years, achieving three produced per month but not the four per month target after the ramp-up to achieve more than 350 and is now declining to 0.5 a month.\n",
      "As Boeing see the VLA market as too small to retain in its 2017 forecast, its VP marketing Randy Tinseth does not believe Airbus will deliver the rest of the backlog.\n",
      "Richard Aboulafia predicted a 2020 final delivery, with unpleasant losses due to \"hubris, shoddy market analysis, nationalism and simple wishful thinking\".\n",
      "In 2017, the A380 fleet exceeded the number of remaining passenger B747s, which had declined from 740 aircraft when the A380 was launched in 2000 to 550 units when the A380 was introduced in 2007, and around 200 ten years later. However, the market-share battle has shifted to large single-aisles and 300-seat twin-aisles.\n",
      "\n",
      "\n",
      "=== Cost ===\n",
      "As of 2016, the list price of an A380 was US$432.6 million. Negotiated discounts made the actual prices much lower, and industry experts questioned whether the A380 project would ever pay for itself. The first aircraft was sold and leased back by Singapore Airlines in 2007 to Dr. Peters for $197 million. In 2016, IAG's Willie Walsh said he could add a few, but also that he found the price of new aircraft \"outrageous\" and would source them from the second-hand market.\n",
      "AirInsight estimates its hourly cost at $26,000, or around $50 per seat hour (when configured for only 520 seats), which compares to $44 per seat hour for a Boeing 777-300ER, and $90 per seat hour for a Boeing 747-400 as of November 2015. The A380 was designed with large wing and tail surfaces to accommodate a planned stretch; this resulted in a high empty weight per seat. The stretch never occurred to take advantage of this, and the A380's cost-per-seat is expected to be matched by the A350-1000 and 777-9.\n",
      "\n",
      "\n",
      "=== Economic aspects ===\n",
      "With a theoretical maximum seating capacity of 853 seats, which is not used by any airline, the Airbus A380 consumes 2.4 liters of kerosene per 100 passenger kilometers. This increases with a reduced seating capacity from 555 to 3.5 l/100 pkm and is 5.2 liters of kerosene per 100 passenger kilometers in the smallest possible variant with only 362 seats.\n",
      "\n",
      "\n",
      "=== Secondary ===\n",
      "\n",
      "As of 2015, several airlines expressed their interest in selling their aircraft, partially coinciding with expiring lease contracts for the aircraft. Several in-service A380s were offered for lease to other airlines. The suggestion prompted concerns on the potential for new sales for Airbus, although these were dismissed by Airbus COO John Leahy who stated that \"Used A380s do not compete with new A380s\", noting that the second-hand market is more interesting for parties otherwise looking to buy smaller aircraft such as the Boeing 777.\n",
      "After Malaysia Airlines was unable to sell or lease its six A380s, it decided to refurbish the aircraft with seating for 700 and transfer them to a subsidiary carrier for religious pilgrimage flights. As it started receiving its six A350s to replace its A380s in December 2017, the new subsidiary will serve the Hajj and Umrah market with them, starting in the third quarter of 2018 and could be expanded above six beyond 2020 to 2022. The cabin will have 36 business seats and 600 economy seats, with a 712-seat reconfiguration possible within five days. The fleet could be chartered half the year for the tourism industry like cruise shipping and will be able to operate for the next 40 years if oil prices stay low.\n",
      "As they should be parked by June 2018 before reconfiguration, MAS confirmed the plans and will also use them for peak periods to high traffic markets like London.\n",
      "In August 2017, it was announced that Hi Fly would lease two used aircraft. The Portuguese ACMI/charter airline will use the aircraft for markets where high capacity is needed and airports where slots are scarce. The first aircraft was scheduled to begin commercial operations during the first quarter of 2018 Hi Fly was to receive its A380s from mid 2018 in a 471-seat configuration: 399 on the main deck, 60 business-class and 12 first-class seats on the upper deck, the Singapore Airlines layout. Hi Fly first used one of their A380s on 1 August 2018 for a one-off flight to enable Thomas Cook Airlines to repatriate passengers from Rhodes to Copenhagen following IT problems in the Greek airport. The same aircraft was then wet-leased to Norwegian to operate its evening London-New York service for several weeks in August 2018, to alleviate availability issues on its Boeing 787s affected by Trent 1000 engine problems; Air Austral also signed a deal to wet-lease an A380 from Hi Fly while one of its 787s is grounded for three months of Trent 1000 inspections.\n",
      "As of December 2019, Hi Fly has leased one used A380.\n",
      "Amedeo, mainly an A380 lessor and the largest with 22, mostly leased to Emirates, wants to find a use for them after their lease expires from 2022, and study if there is a demand to wet lease them.\n",
      "Swiss aircraft broker Sparfell & Partners plans to convert for head-of-state or VVIP transport some of Dr. Peters' four ex-SIA A380s for under $300 million apiece, less than a new Boeing 777 or Airbus A330.\n",
      "As of November 2018, Air France was planning to return five of its A380s to lessors by the end of 2019 and refurbish its other five with new interiors by 2020 for $51 million per aircraft. By July 2019, Air France revised this plan and intended to phase out all ten of its A380s by 2022 as part of an \"accelerated\" retirement plan, replacing them with no more than nine twin-engined wide-body aircraft. The A330-900, A350-900 and 787-9 were being evaluated as potential replacements.\n",
      "Following the cancellation of the programme in February 2019, the residual value of existing aircraft is in doubt. While Amedeo argued that cancellation should benefit the value, this will depend on whether any new airlines are prepared to adopt second-hand A380s, and how many existing users continue to operate the aircraft. Even the teardown value is questionable, in that the engines, usually the most valuable part of a scrap aircraft, are not used by any other models.\n",
      "\n",
      "\n",
      "=== Teardown and second-hand market ===\n",
      "With four A380s leased to Singapore Airlines having been returned between October 2017 and March 2018, Dr. Peters feared a weak aftermarket and is considering scrapping them, although they are on sale for a business jet conversion, but on the other hand Airbus sees a potential for African airlines and Chinese airlines, Hajj charters and its large Gulf operators. An A380 parted out may be worth $30 million to $50 million if it is at half-life. Teardown specialists have declined offers for several aircraft at part-out prices due to high risk as a secondary market is uncertain with $30 to $40 million for the refurbishment, but should be between $20 and $30 million to be viable.\n",
      "When the aircraft were proposed to British Airways, Hi Fly and Iran Air, BA did not want to replace its Boeing 747s until 2021, while Iran Air faced political uncertainty and Hi Fly did not have a convincing business case. Consequently, Dr. Peters recommended to its investors on 28 June 2018 to sell the aircraft parts with VAS Aero Services within two years for US$45 million, quickly for components like the landing gear or the APU.\n",
      "Rolls-Royce Trent 900 leasing beyond March 2019 should generate US$480,000 monthly for each aircraft before selling the turbofans by 2020. With a total revenue of US$80 million per aircraft, the overall return expected is 145–155% while 72% and 81% of their debt had already been repaid.\n",
      "The fifth plane coming back from SIA, owned by Doric, has been leased by Hi Fly Malta with a lease period of \"nearly 6 years\". Hi Fly Malta became the first operator of second-hand A380 (MSN006). Norwegian Long Haul briefly leased Hi Fly Malta A380 in August 2018, which operated the aircraft following engine problems with their Dreamliner fleet. Norwegian leased the A380 again in late 2018 to help deal with the passenger backlog as a result of the Gatwick Airport drone incident.\n",
      "Two others returned from Singapore Airlines in the coming weeks (June 2018) but they could stay with an existing Asian A380 flag carrier.\n",
      "The teardown value includes $32–$33 million from the engines in 2020 and $4 million from leasing them until then, while the value of a 2008 A380 would be $78.4 million in 2020 and its monthly lease in 2018 would be $929,000.\n",
      "The two aircraft have returned 3.8–4.2% per year since 2008 but the 145–155% return is lower than the 220% originally forecast.\n",
      "Of the nearly 500 made, 50 747-400s were sold in the secondary market, including only 25 to new customers.\n",
      "These are among the first A380s delivered, lacking the improvements and weight savings of later ones.\n",
      "The first two A380s delivered to Singapore Airlines (MSN003 and MSN005) flew to Tarbes, France, to be scrapped. Their engines and some components had been dismantled and removed while the livery was painted over in white.\n",
      "As of September 2019, Emirates initiated its A380 retirement plan – which will see the type remain in service until at least 2035 – by retiring two aircraft that were due for a major overhaul, and using them as parts donors for the rest of the fleet. Emirates does not see any demand in the second-hand market, but is indifferent in that the retired aircraft have already been fully written down and thus have no residual value. As further aircraft are retired, Emirates-owned airframes will continue to be used for parts, while leased airframes will be returned to the lessors. One such return to lessor Doric was purchased by Emirates for £25.3 million in late 2022, as spare parts.\n",
      "\n",
      "\n",
      "== Orders and deliveries ==\n",
      "\n",
      "Fourteen customers have ordered and taken delivery of the A380 as of April 2019. Total orders for the A380 stand at 251 as of November 2019. The biggest customer is Emirates, which has committed to order a total of 123 A380s as of 14 February 2019. One VIP order was made in 2007 but later cancelled by Airbus. The A380F version attracted 27 orders, before they were either cancelled (20) or converted to A380-800 (7) following the production delay and the subsequent suspension of the freighter programme.\n",
      "Delivery takes place in Hamburg for customers from Europe and the Middle East and in Toulouse for customers from the rest of the world. EADS explained that deliveries in 2013 were to be slowed temporarily to accommodate replacement of the wing rib brackets where cracks were detected earlier in the existing fleet.\n",
      "In 2013, in expectation of raising the number of orders placed, Airbus announced \"attractable discounts\" to airlines who placed large orders for the A380. Soon after, at the November 2013 Dubai Air Show, Emirates ordered 150 777X and Etihad Airways ordered 50 aircraft, totalling $20 billion.\n",
      "In late July 2014, Airbus announced that it had terminated five A380 firm orders from the Japanese low-cost carrier, Skymark Airlines, citing concerns over the airline's financial performance. In 2016, the largest Japanese carrier, All Nippon Airways (ANA), took over three of the orders and the remaining two that were already produced and put into long-term storage were taken up later by the main customer, Emirates.  Qantas planned to order eight more aircraft but froze its order while the airline restructured its operations. Qantas eventually cancelled its order in February 2019 amid doubts over the A380's future.\n",
      "Amedeo, an aircraft lessor that ordered 20 A380s, had not found a client for the airliner and eventually cancelled their order in 2019.\n",
      "Virgin Atlantic ordered six A380s in 2001 but never took delivery and later cancelled them in 2018.\n",
      "In June 2017, Emirates had 48 orders outstanding, but due to lack of space in Dubai Airport, it deferred 12 deliveries by one year and would not take any in 2019–20 before replacing its early airliners from 2021. There were open production slots in 2019, and Airbus reduced its production rate in 2017–2018 at 12 per year. The real backlog is much smaller than the official 107 with 47 uncertain orders: 20 commitments for the A380-specialized lessor Amedeo which commits to production only once aircraft are placed, eight for Qantas which wants to keep its fleet at 12, six for Virgin Atlantic which does not want them any more and three ex Transaero for finance vehicle Air Accord.\n",
      "At its 100th delivery ceremony, Emirates CEO Ahmed bin Saeed Al Maktoum was hoping to order new A380s at the November 2017 Dubai Air Show. Emirates does not need the small front staircase and eleven-abreast economy of the A380plus concept, but wants Airbus to commit to continue production for at least 10 years.\n",
      "On 18 January 2018, Airbus secured a preliminary agreement from Emirates for up to 36 A380s, to be delivered from 2020, valued at $16 billion at list prices. The contract was signed in February 2018, comprising a firm order for 20 A380s and options on 16 more.\n",
      "In early 2019, Airbus confirmed it was in discussions with Emirates over its A380 contract. If the A380's only stable client were to drop the type, Airbus could cease production of the superjumbo. Emirates is at odds with Rolls-Royce over shortfalls in fuel savings from the Trent 900s, and could switch its order for 36 A380s to the smaller A350. The A350 could also replace its provisional order for 40 Boeing 787-10s, placed in 2017, as engine margins on the 787 are insufficient for the hot Dubai weather.\n",
      "On 14 February 2019, Emirates decided to cancel its order for 39 planes, opting to replace them with A350s and A330neos. Airbus stated that this cancellation would bring the A380's production to an end when the last unfilled orders are delivered in 2021.\n",
      "On 21 March 2019, All Nippon Airways received its first of three A380s painted with the Sea Turtle livery. Called the ANA Blue, this A380 will be used for 3 flights a week, going from Tokyo to Honolulu and back.\n",
      "In October 2021, Emirates announced it would receive its final three A380s to be delivered with the last aircraft in December 2021, thus ending production of the A380.\n",
      "\n",
      "\n",
      "=== Timeline ===\n",
      "\n",
      "Cumulative orders and deliveries\n",
      "\n",
      "Data as of December 2021.\n",
      " Orders  Deliveries\n",
      "\n",
      "\n",
      "== Operators ==\n",
      "\n",
      "There were 234 aircraft (of 251 delivered) in service with 10 operators as of March 2024, with Emirates being the largest operator with 120 A380s in its fleet.\n",
      "\n",
      "\n",
      "=== Current operators ===\n",
      "\n",
      "All Nippon Airways – 3 currently operated, in service since 24 May 2019\n",
      "Asiana Airlines – 6 currently operated, in service since 13 June 2014 To be retired in 2026.\n",
      "British Airways – 12 currently operated, in service since 2 August 2013\n",
      "Emirates – 123 currently operated, in service since 1 August 2008 Plan to be retired by 2035.\n",
      "Etihad Airways – 4 currently operated, in service since 27 December 2014\n",
      "Korean Air – 9 currently operated, in service since  17 June 2011 To be retired in 2026.\n",
      "Lufthansa – 4 currently operated, in service since 10 June 2011 To be retired after 2030.\n",
      "Qantas – 10 currently operated, in service since 20 October 2008 To be retired from 2032.\n",
      "Qatar Airways – 10 currently operated, in service since 10 October 2014 To be retired.\n",
      "Singapore Airlines – 12 currently operated, in service since 25 October 2007\n",
      "\n",
      "\n",
      "=== Former operators ===\n",
      "The following airlines did operate A380 aircraft and since phased them out:\n",
      "\n",
      "Air France – 10 operated from 2009–2020, retired early due to COVID-19\n",
      "China Southern Airlines – 5 operated from 2011–2022, retired due to high operation costs\n",
      "Hi Fly Malta – 1 operated from 2018–2020, retired early due to COVID-19\n",
      "Malaysia Airlines – 6 operated from 2012–2020, retired due to high operation costs\n",
      "Thai Airways – 6 operated from 2012–2020, retired due to restructuring efforts\n",
      "\n",
      "\n",
      "== Aircraft on display ==\n",
      "The fourth test A380 (MSN4) was donated to the Musée de l'air et de l'espace at Le Bourget in 2017. After several months of restoration, it was put on display on the apron in 2018, near the museum's Boeing 747-100, making the museum the first in the world where both large airliners can be seen together.\n",
      "Donated by Airbus at the same time as A380 MSN4, the second test A380 (MSN2), was donated to the Aeroscopia museum at Toulouse-Blagnac Airport, Toulouse, along with the first Airbus A320 and an Airbus A340, that had also previously been used by the company for test flights.\n",
      "\n",
      "\n",
      "== Incidents ==\n",
      "The global A380 fleet has zero fatalities and no hull loss accidents as of December 2023, but was involved in two notable incidents.\n",
      "\n",
      "On 4 November 2010, Qantas Flight 32, en route from Singapore Changi Airport to Sydney Airport, suffered an uncontained engine failure, resulting in a series of related problems, and forcing the flight to make an emergency landing. The plane safely returned to Singapore. There were no injuries to the passengers, the crew, or people on the ground despite debris falling onto the Indonesian island of Batam. The A380 was damaged sufficiently for the event to be classified as an accident. Qantas subsequently grounded all of its A380s that day subject to an internal investigation taken in conjunction with the engine manufacturer Rolls-Royce plc. A380s powered by Engine Alliance GP7000 were unaffected, but operators of Rolls-Royce Trent 900-powered A380s were affected. Investigators determined that an oil leak, caused by a defective oil supply pipe, led to an engine fire and subsequent uncontained engine failure. Repairs cost an estimated A$139 million (~US$145M). As other Rolls-Royce Trent 900 engines also showed problems with the same oil leak, Rolls-Royce ordered many engines to be changed, including about half of the engines in the Qantas A380 fleet. During the aeroplane's repair, cracks were discovered in wing structural fittings, which also resulted in mandatory inspections of all A380s and subsequent design changes.\n",
      "On 30 September 2017, Air France Flight 66, an Engine Alliance GP7270 powered Airbus A380, suffered an apparent uncontained engine failure while operating from Paris Charles de Gaulle Airport to Los Angeles International Airport. The aircraft safely diverted to CFB Goose Bay, Canada.\n",
      "\n",
      "\n",
      "== Specifications (A380-800, Trent engines) ==\n",
      "\n",
      "Data from AirbusGeneral characteristics\n",
      "Crew: 2 (cockpit)\n",
      "Capacity: Passengers: 575 typical, 853 maxCargo: 175.2 m3 (6,190 cu ft) Maximum payload 84 t (185,000 lb)\n",
      "Length: 72.72 m (238 ft 7 in)\n",
      "Wingspan: 79.75 m (261 ft 8 in) with a wing sweep of 33.5°\n",
      "Width: 7.14 m (23 ft 5 in)\n",
      "Height: 24.09 m (79 ft 0 in)\n",
      "Wing area: 845 m2 (9,100 sq ft) \n",
      "Empty weight: 285,000 kg (628,317 lb)\n",
      "Max takeoff weight: 575,000 kg (1,267,658 lb)\n",
      "Fuel capacity: 253,983 kg (559,937 lb), 323,546 litres (85,472 US gal, 71,173 imp gal)\n",
      "Powerplant: 4 × Trent 970-84/970B-84 turbofan, 348 kN (78,000 lbf) thrust  each 332.44–356.81 kN (74,740–80,210 lbf)\n",
      "Performance\n",
      "\n",
      "Cruise speed: 903 km/h (561 mph, 488 kn) Mach 0.85\n",
      "Range: 14,800 km (9,200 mi, 8,000 nmi) \n",
      "Service ceiling: 13,000 m (43,000 ft) \n",
      "VMO: Mach 0.89 (945 km/h; 511 kn; 587 mph)\n",
      "Landing speed: 138 kn (256 km/h; 159 mph)\n",
      "Takeoff: 3,000 m (9,800 ft) at MTOW, SL, ISA\n",
      "\n",
      "\n",
      "=== Aircraft Type Designations ===\n",
      "\n",
      "\n",
      "== See also ==\n",
      "\n",
      "Related development\n",
      "\n",
      "Airbus A330\n",
      "Airbus A340\n",
      "Airbus A350\n",
      "Aircraft of comparable role, configuration, and era\n",
      "\n",
      "Boeing 747-8\n",
      "Boeing 777X\n",
      "Boeing New Large Airplane (proposal)\n",
      "McDonnell Douglas MD-12 (proposal)\n",
      "Sukhoi KR-860 (proposal)\n",
      "\n",
      "Related lists\n",
      "\n",
      "List of civil aircraft\n",
      "List of commercial jet airliners\n",
      "List of large aircraft\n",
      "List of aerospace megaprojects\n",
      "\n",
      "\n",
      "== Notes ==\n",
      "\n",
      "\n",
      "== References ==\n",
      "\n",
      "\n",
      "== Further reading ==\n",
      "\n",
      "\n",
      "== External links ==\n",
      "\n",
      "Official website\n",
      "\"A380 Special Report\". Flight International. June 2005.\n",
      "Mark Power (2003–2006). \"Project \" A380: Photographs / Audio Visual\".\n",
      "\"Airbus A380 Aircraft Profile\". FlightGlobal. 27 February 2007.\n",
      "Max Kingsley-Jones (9 November 2017). \"The path to an A380 century at Emirates\". Flightglobal.\n",
      "David Kaminski-Morrow (9 July 2018). \"Analysis: A380 scrapes along in hope of revival\". Flightglobal.\n",
      "Jens Flottau; Rupa Haria. \"End of the Mega-Transport: Highs and Lows of the Airbus A380\". Aviation Week Network.\n"
     ]
    }
   ],
   "source": [
    "import wikipedia\n",
    "\n",
    "page_title = \"a380\" # TODO: Alege un titlu de pe wikipedia\n",
    "page = wikipedia.page(page_title, auto_suggest=False)\n",
    "\n",
    "print(page.content)"
   ]
  },
  {
   "cell_type": "markdown",
   "metadata": {
    "id": "ETw3pflZNH5a"
   },
   "source": [
    "2. Descoperă câte cuvinte de pe pagina de wikipedia apar în modelul tău și câte nu."
   ]
  },
  {
   "cell_type": "code",
   "execution_count": 37,
   "metadata": {
    "colab": {
     "base_uri": "https://localhost:8080/"
    },
    "id": "jJDGt_4pWIOi",
    "outputId": "43c4c840-e246-4dc5-df8c-3535534c4cf3"
   },
   "outputs": [
    {
     "name": "stderr",
     "output_type": "stream",
     "text": [
      "[nltk_data] Downloading package punkt to\n",
      "[nltk_data]     /Users/AnduScheusan/nltk_data...\n",
      "[nltk_data]   Unzipping tokenizers/punkt.zip.\n"
     ]
    },
    {
     "data": {
      "text/plain": [
       "True"
      ]
     },
     "execution_count": 37,
     "metadata": {},
     "output_type": "execute_result"
    }
   ],
   "source": [
    "import nltk\n",
    "nltk.download('punkt')"
   ]
  },
  {
   "cell_type": "code",
   "execution_count": 39,
   "metadata": {
    "colab": {
     "base_uri": "https://localhost:8080/"
    },
    "id": "hMH6kzu8NSs6",
    "outputId": "ff64f382-e0a2-48f7-d3ea-48443e71bad3"
   },
   "outputs": [
    {
     "data": {
      "text/plain": [
       "['enlarged',\n",
       " 'job',\n",
       " 'references',\n",
       " 'this',\n",
       " 'less',\n",
       " 'traveller',\n",
       " 'reacting',\n",
       " 'discussing',\n",
       " '8,000',\n",
       " 'stronger']"
      ]
     },
     "execution_count": 39,
     "metadata": {},
     "output_type": "execute_result"
    }
   ],
   "source": [
    "# TODO: Cate cuvinte de pe pagina de wiki apar în model și câte nu?\n",
    "from nltk import word_tokenize\n",
    "\n",
    "words = list(set(word_tokenize(page.content.lower())))\n",
    "words[:10]"
   ]
  },
  {
   "cell_type": "code",
   "execution_count": 42,
   "metadata": {
    "colab": {
     "base_uri": "https://localhost:8080/"
    },
    "id": "tRJWtH_oZbb4",
    "outputId": "d7003f5c-625b-49b0-8cd3-08d1fa33c1f6"
   },
   "outputs": [
    {
     "data": {
      "text/plain": [
       "['</s>', 'in', 'for', 'that', 'is', 'on', '##', 'The', 'with', 'said']"
      ]
     },
     "execution_count": 42,
     "metadata": {},
     "output_type": "execute_result"
    }
   ],
   "source": [
    "lista_cuvinte = list(model.key_to_index.keys())\n",
    "lista_cuvinte[:10]"
   ]
  },
  {
   "cell_type": "code",
   "execution_count": 46,
   "metadata": {},
   "outputs": [
    {
     "data": {
      "text/plain": [
       "['enlarged',\n",
       " 'job',\n",
       " 'references',\n",
       " 'this',\n",
       " 'less',\n",
       " 'reacting',\n",
       " 'discussing',\n",
       " 'stronger',\n",
       " 'northern',\n",
       " 'wheels',\n",
       " 'flowing',\n",
       " 'derived',\n",
       " 'converted',\n",
       " 'period',\n",
       " 'wake',\n",
       " 'enhancing',\n",
       " 'ge',\n",
       " 'renewed',\n",
       " 'beyond',\n",
       " 'disclosed',\n",
       " 'crosswinds',\n",
       " 'society',\n",
       " 'darkened',\n",
       " 'transported',\n",
       " 'problem',\n",
       " 'implementing',\n",
       " 'vehicle',\n",
       " 'super',\n",
       " 'fly',\n",
       " 'interior',\n",
       " 'detected',\n",
       " 'by',\n",
       " 'anticipated',\n",
       " 'salons',\n",
       " 'availability',\n",
       " 'airport',\n",
       " 'maintained',\n",
       " 'bigger',\n",
       " 'ram',\n",
       " 'custom',\n",
       " 'final',\n",
       " 'well',\n",
       " 'route',\n",
       " 'revenue',\n",
       " 'likely',\n",
       " 'downtime',\n",
       " 'efficiency',\n",
       " 'plus',\n",
       " 'ever',\n",
       " 'approved',\n",
       " 'estimating',\n",
       " 'belly',\n",
       " 'units',\n",
       " 'lack',\n",
       " 'convincing',\n",
       " 'subsonic',\n",
       " 'analysis',\n",
       " 'unnecessary',\n",
       " 'publishing',\n",
       " 'actually',\n",
       " 'investor',\n",
       " 'advantage',\n",
       " 'upgrades',\n",
       " 'klm',\n",
       " '5.',\n",
       " 'separations',\n",
       " 'apparent',\n",
       " 'dreamliner',\n",
       " 'developed',\n",
       " 'estimated',\n",
       " 'increased',\n",
       " 'otherwise',\n",
       " 'share',\n",
       " 'offering',\n",
       " 'advance',\n",
       " 'walsh',\n",
       " 'evaluated',\n",
       " 'scenarios',\n",
       " 'commits',\n",
       " 'partnership',\n",
       " 'problems',\n",
       " 'affect',\n",
       " 'charles',\n",
       " 'stop',\n",
       " 'aimed',\n",
       " 'staircase',\n",
       " 'outrageous',\n",
       " 'technology',\n",
       " 'tons',\n",
       " 'citing',\n",
       " 'synthetic',\n",
       " 'wheel',\n",
       " 'working',\n",
       " 'briefly',\n",
       " 'vortex',\n",
       " 'shortfall',\n",
       " 'planes',\n",
       " 'lucky',\n",
       " 'accommodated',\n",
       " 'certificates',\n",
       " 'eventually',\n",
       " 'efficiencies',\n",
       " 'wheeled',\n",
       " 'ended',\n",
       " 'earlier',\n",
       " 'hydraulics',\n",
       " 'minor',\n",
       " 'vip',\n",
       " 'docks',\n",
       " 'backup',\n",
       " 'going',\n",
       " 'incorporate',\n",
       " 'sections',\n",
       " 'pilot',\n",
       " 'soon',\n",
       " 'beluga',\n",
       " 'overview',\n",
       " 'percent',\n",
       " 'alleviate',\n",
       " 'scarce',\n",
       " 'similar',\n",
       " 'liters',\n",
       " 'install',\n",
       " 'headroom',\n",
       " 'airports',\n",
       " 'aileron',\n",
       " 'airlines',\n",
       " 'ima',\n",
       " 'approximately',\n",
       " 'reason',\n",
       " 'thinner',\n",
       " 'unit',\n",
       " '&',\n",
       " 'industry',\n",
       " 'examined',\n",
       " 'away',\n",
       " 'box',\n",
       " 'level',\n",
       " 'was',\n",
       " 'cost',\n",
       " 'initiatives',\n",
       " 'controlled',\n",
       " 'postponed',\n",
       " 'understanding',\n",
       " 'told',\n",
       " 'received',\n",
       " 'still',\n",
       " 'outlook',\n",
       " 'targets',\n",
       " 'ongoing',\n",
       " 'consistently',\n",
       " 'hubris',\n",
       " 'headquarters',\n",
       " 'john',\n",
       " 'operate',\n",
       " 'five',\n",
       " 'announced',\n",
       " 'list',\n",
       " 'break',\n",
       " 'hoping',\n",
       " 'viable',\n",
       " 'clark',\n",
       " 'march',\n",
       " 'equivalents',\n",
       " 'itself',\n",
       " 'bole',\n",
       " 'december',\n",
       " 'weight',\n",
       " 'inbuilt',\n",
       " 'evaluations',\n",
       " 'delivered',\n",
       " 'protests',\n",
       " 'lessors',\n",
       " 'incident',\n",
       " 'had',\n",
       " 'ceremony',\n",
       " 'previously',\n",
       " 'massive',\n",
       " 'breakers',\n",
       " 'initially',\n",
       " 'asia',\n",
       " 'than',\n",
       " 'seen',\n",
       " 'system',\n",
       " 'originally',\n",
       " 'limits',\n",
       " 'arrived',\n",
       " 'responded',\n",
       " 'production',\n",
       " 'leaked',\n",
       " 'parties',\n",
       " 'developmental',\n",
       " 'under',\n",
       " 'proactive',\n",
       " 'supplies',\n",
       " 'destinations',\n",
       " 'casa',\n",
       " 'center',\n",
       " 'have',\n",
       " 'news',\n",
       " 'behind',\n",
       " 'doubts',\n",
       " 'concerns',\n",
       " 'paradigm',\n",
       " 'paris',\n",
       " 'acknowledged',\n",
       " 'destructive',\n",
       " 'categories',\n",
       " 'governments',\n",
       " 'class',\n",
       " 'richard',\n",
       " 'restrict',\n",
       " 'dismissed',\n",
       " 'particularly',\n",
       " 'mach',\n",
       " 'h',\n",
       " 'lower',\n",
       " 'because',\n",
       " 'negotiated',\n",
       " 'key',\n",
       " 'seng',\n",
       " 'max',\n",
       " 'ground',\n",
       " 'ship',\n",
       " 'restrictions',\n",
       " 'helps',\n",
       " 'related',\n",
       " 'j',\n",
       " 'likelier',\n",
       " 'fulfilled',\n",
       " 'valued',\n",
       " 'once',\n",
       " 'several',\n",
       " 'chain',\n",
       " 'expecting',\n",
       " 'usable',\n",
       " 'arrangement',\n",
       " 'seeking',\n",
       " 'implementation',\n",
       " 'haul',\n",
       " 'multifunction',\n",
       " 'constrained',\n",
       " 'suggest',\n",
       " 'typical',\n",
       " 'voted',\n",
       " 'path',\n",
       " 'setbacks',\n",
       " 'part',\n",
       " 'aiming',\n",
       " 'quieter',\n",
       " 'withdrew',\n",
       " 'battle',\n",
       " 'necessary',\n",
       " 'history',\n",
       " 'frame',\n",
       " 'repaired',\n",
       " 'recommends',\n",
       " 'money',\n",
       " 'winglet',\n",
       " 'generator',\n",
       " 'guarantees',\n",
       " 'fuselage',\n",
       " 'intervals',\n",
       " 'norwegian',\n",
       " 'longer',\n",
       " 'proposal',\n",
       " 'enclosed',\n",
       " 'civil',\n",
       " 'award',\n",
       " 'profits',\n",
       " 'routes',\n",
       " 'cover',\n",
       " 'modules',\n",
       " 'revival',\n",
       " 'employs',\n",
       " 'japanese',\n",
       " 'combi',\n",
       " 'millionth',\n",
       " 'manufacturing',\n",
       " 'version',\n",
       " 'camber',\n",
       " 'could',\n",
       " 'europe',\n",
       " 'values',\n",
       " 'length',\n",
       " 'replacement',\n",
       " 'interchangeable',\n",
       " 'glare',\n",
       " 'falling',\n",
       " 'strengthened',\n",
       " 'tokyo',\n",
       " 'third',\n",
       " 'past',\n",
       " 'presentation',\n",
       " 'overcapacity',\n",
       " 'save',\n",
       " 'required',\n",
       " 'smallest',\n",
       " 'government',\n",
       " 'emirates',\n",
       " 'materials',\n",
       " 'carbon',\n",
       " 'impact',\n",
       " 'late',\n",
       " 'evaporating',\n",
       " 'casinos',\n",
       " 'uncontained',\n",
       " 'drone',\n",
       " 'streamlining',\n",
       " 'improper',\n",
       " 'presidential',\n",
       " 'avionics',\n",
       " 'malaysia',\n",
       " 'sea',\n",
       " 'v',\n",
       " 'rivets',\n",
       " 'avoid',\n",
       " 'cfo',\n",
       " 'paint',\n",
       " 'interesting',\n",
       " 'expense',\n",
       " 'conducted',\n",
       " 'combination',\n",
       " 'ramp',\n",
       " 'square',\n",
       " 'accord',\n",
       " 'retired',\n",
       " 'we',\n",
       " 'dubai',\n",
       " 'observed',\n",
       " 'eliminate',\n",
       " 'replacements',\n",
       " 'consequently',\n",
       " 'grounded',\n",
       " 'allocation',\n",
       " 'his',\n",
       " 'investors',\n",
       " 'concurrently',\n",
       " 'showed',\n",
       " 'coo',\n",
       " 'commitments',\n",
       " 'refurbish',\n",
       " 'fifty',\n",
       " 'variety',\n",
       " 'bought',\n",
       " 'needed',\n",
       " 'daylight',\n",
       " 'includes',\n",
       " 'obtained',\n",
       " 'financial',\n",
       " 'laws',\n",
       " 'accumulated',\n",
       " 'taxiways',\n",
       " 'aspect',\n",
       " 'specifically',\n",
       " 'data',\n",
       " 'purchased',\n",
       " 'explained',\n",
       " 'enter',\n",
       " 'brighter',\n",
       " 'families',\n",
       " 'series',\n",
       " 'hall',\n",
       " 'stirred',\n",
       " 'return',\n",
       " 'improving',\n",
       " 'hours',\n",
       " 'bridges',\n",
       " 'certified',\n",
       " 'competitive',\n",
       " 'plans',\n",
       " 'months',\n",
       " 'kn',\n",
       " 'middle',\n",
       " 'offer',\n",
       " 'instead',\n",
       " 'direct',\n",
       " 'just',\n",
       " 'reliance',\n",
       " 'sufficient',\n",
       " 'reliability',\n",
       " 'pilots',\n",
       " 'development',\n",
       " 'mi',\n",
       " 'design',\n",
       " 'plane',\n",
       " 'internal',\n",
       " 'healthy',\n",
       " 'most',\n",
       " 'created',\n",
       " 'became',\n",
       " 'incorporating',\n",
       " 'july',\n",
       " 'increases',\n",
       " 'bend',\n",
       " 'saving',\n",
       " 'drives',\n",
       " 'given',\n",
       " 'alloy',\n",
       " 'culture',\n",
       " 'crew',\n",
       " 'majors',\n",
       " 'sustain',\n",
       " 'stable',\n",
       " 'where',\n",
       " 'changed',\n",
       " 'slipping',\n",
       " 'frequency',\n",
       " 'airworthiness',\n",
       " 'until',\n",
       " 'exist',\n",
       " 'specifications',\n",
       " 'generate',\n",
       " 'usually',\n",
       " 'followed',\n",
       " 'recommended',\n",
       " 'cited',\n",
       " 'mid',\n",
       " 'discounts',\n",
       " 'retained',\n",
       " 'see',\n",
       " 'up',\n",
       " 'ceiling',\n",
       " 'include',\n",
       " 'damaged',\n",
       " 'wanted',\n",
       " 'cargo',\n",
       " 'selling',\n",
       " 'min',\n",
       " 'approach',\n",
       " 'also',\n",
       " 'restoration',\n",
       " 'actual',\n",
       " 'at',\n",
       " 'joint',\n",
       " 'harnesses',\n",
       " 'navigation',\n",
       " 'cross',\n",
       " 'margins',\n",
       " '1',\n",
       " 'previous',\n",
       " 'study',\n",
       " 'manufacturer',\n",
       " 'purchasing',\n",
       " 'suggested',\n",
       " 'copper',\n",
       " 'atlantic',\n",
       " 'offered',\n",
       " 'carried',\n",
       " 'kw',\n",
       " 'turbofans',\n",
       " 'or',\n",
       " 'altitude',\n",
       " 'recoup',\n",
       " 'technologies',\n",
       " 'overcome',\n",
       " 'which',\n",
       " 'dining',\n",
       " 'since',\n",
       " 'remained',\n",
       " 'secondary',\n",
       " 'cease',\n",
       " 'term',\n",
       " 'uncertain',\n",
       " 'week',\n",
       " 'book',\n",
       " 'doubled',\n",
       " 'confident',\n",
       " 'loss',\n",
       " 'year',\n",
       " 'international',\n",
       " 'packs',\n",
       " 'door',\n",
       " 'links',\n",
       " 'motors',\n",
       " 'changing',\n",
       " 'never',\n",
       " 'donated',\n",
       " 'extension',\n",
       " 'classified',\n",
       " 'gets',\n",
       " 'product',\n",
       " 'prompted',\n",
       " 'specialists',\n",
       " 'dismantled',\n",
       " 'price',\n",
       " 'comprises',\n",
       " 'typically',\n",
       " 'result',\n",
       " 'speculation',\n",
       " 'only',\n",
       " 'megaprojects',\n",
       " 'engines',\n",
       " 'back',\n",
       " 'committed',\n",
       " 'took',\n",
       " 'hardware',\n",
       " 'authority',\n",
       " 'top',\n",
       " 'extract',\n",
       " 'supply',\n",
       " 'gradually',\n",
       " 'replace',\n",
       " 'accelerated',\n",
       " 'sequentially',\n",
       " 'thrust',\n",
       " 'parent',\n",
       " 'along',\n",
       " 'flights',\n",
       " 'fuels',\n",
       " 'faced',\n",
       " 'take',\n",
       " 'airframe',\n",
       " 'keyboard',\n",
       " 'it',\n",
       " 'trying',\n",
       " 'reach',\n",
       " 'signage',\n",
       " 'ensured',\n",
       " 'à',\n",
       " 'robustness',\n",
       " 'electronic',\n",
       " 'missions',\n",
       " 'huge',\n",
       " 'pumps',\n",
       " 'nearly',\n",
       " 'scrapes',\n",
       " 'scrapped',\n",
       " 'evacuation',\n",
       " 'total',\n",
       " 'economics',\n",
       " 'assured',\n",
       " 'aggravate',\n",
       " 'effort',\n",
       " 'criteria',\n",
       " 'keyboards',\n",
       " 'hi',\n",
       " 'yields',\n",
       " 'noise',\n",
       " 'kva',\n",
       " 'particular',\n",
       " 'possible',\n",
       " 'like',\n",
       " 'employers',\n",
       " 'fell',\n",
       " 'carrier',\n",
       " 'projected',\n",
       " 'capable',\n",
       " 'equipped',\n",
       " 'suggesting',\n",
       " 'technological',\n",
       " 'keep',\n",
       " 'customers',\n",
       " 'evening',\n",
       " 'firm',\n",
       " 'limit',\n",
       " 'representatives',\n",
       " 'led',\n",
       " 'special',\n",
       " 'rear',\n",
       " 'hid',\n",
       " 'smaller',\n",
       " 'adding',\n",
       " 'runways',\n",
       " 'transatlantic',\n",
       " 'france',\n",
       " 'together',\n",
       " 'extend',\n",
       " 'snack',\n",
       " 'offers',\n",
       " 'during',\n",
       " 'proposals',\n",
       " 'questioned',\n",
       " 'necessitated',\n",
       " 'edges',\n",
       " 'higher',\n",
       " 'win',\n",
       " 'present',\n",
       " 'reading',\n",
       " 'additional',\n",
       " 'european',\n",
       " 'broker',\n",
       " 'profitable',\n",
       " 'tool',\n",
       " 'provisions',\n",
       " 'appeal',\n",
       " 'next',\n",
       " 'gates',\n",
       " 'benefit',\n",
       " 'conversion',\n",
       " 'copenhagen',\n",
       " 'conventional',\n",
       " 'below',\n",
       " 'integration',\n",
       " 'attain',\n",
       " 'august',\n",
       " 'domestic',\n",
       " 'light',\n",
       " 'parked',\n",
       " 'chief',\n",
       " 'bin',\n",
       " 'goes',\n",
       " 'percentage',\n",
       " 'starting',\n",
       " 'lowers',\n",
       " 'flaps',\n",
       " 'delivery',\n",
       " 'et',\n",
       " 'reduces',\n",
       " 'date',\n",
       " 'saves',\n",
       " 'characteristics',\n",
       " 'kerosene',\n",
       " 'viewed',\n",
       " 'heavy',\n",
       " 'expo',\n",
       " 'manager',\n",
       " 'amid',\n",
       " 'enhanced',\n",
       " 'employees',\n",
       " 'derivative',\n",
       " 'show',\n",
       " 'displayed',\n",
       " 'through',\n",
       " 'end',\n",
       " 'stays',\n",
       " 'induced',\n",
       " 'qwerty',\n",
       " 'widebodies',\n",
       " 'trip',\n",
       " 'reported',\n",
       " 'client',\n",
       " 'causes',\n",
       " 'generous',\n",
       " 'rather',\n",
       " 'applicable',\n",
       " 'outside',\n",
       " 'terms',\n",
       " 'modular',\n",
       " 'latency',\n",
       " 'disruptions',\n",
       " 'first',\n",
       " 'strengthening',\n",
       " 'cabins',\n",
       " 'width',\n",
       " 'better',\n",
       " 'scaled',\n",
       " 'flew',\n",
       " 'fewer',\n",
       " 'maintenance',\n",
       " 'distributed',\n",
       " 'large',\n",
       " 'drop',\n",
       " 'network',\n",
       " 'foreign',\n",
       " 'having',\n",
       " 'port',\n",
       " 'deliver',\n",
       " 'being',\n",
       " 'drag',\n",
       " 'very',\n",
       " 'improvements',\n",
       " 'transition',\n",
       " 'open',\n",
       " 'recommendations',\n",
       " 'provided',\n",
       " 'constitute',\n",
       " 'extra',\n",
       " 'redesigned',\n",
       " 'wait',\n",
       " 'row',\n",
       " 'half',\n",
       " 'generation',\n",
       " 'eads',\n",
       " 'sustainable',\n",
       " 'bring',\n",
       " 'plastic',\n",
       " 'm',\n",
       " 'turbulence',\n",
       " 'features',\n",
       " 'realities',\n",
       " '5',\n",
       " 'already',\n",
       " 'business',\n",
       " 'refinements',\n",
       " 'photographs',\n",
       " 'who',\n",
       " 'adjusted',\n",
       " 'bn',\n",
       " 'decision',\n",
       " 'portuguese',\n",
       " 'inboard',\n",
       " 'bicycle',\n",
       " 'nobody',\n",
       " 'questionable',\n",
       " 'bed',\n",
       " 'gallery',\n",
       " 'repatriate',\n",
       " 'proposed',\n",
       " 'placing',\n",
       " 'returned',\n",
       " 'onwards',\n",
       " 'industrial',\n",
       " 'complex',\n",
       " 'against',\n",
       " 'welding',\n",
       " 'rupa',\n",
       " 'talks',\n",
       " 'question',\n",
       " 'average',\n",
       " 'mainly',\n",
       " 'theory',\n",
       " 'movement',\n",
       " 'noting',\n",
       " 'hour',\n",
       " 'code',\n",
       " 'identical',\n",
       " 'concluded',\n",
       " 'they',\n",
       " 'provisional',\n",
       " 'greek',\n",
       " 'potential',\n",
       " 'world',\n",
       " 'cu',\n",
       " 'really',\n",
       " 'odds',\n",
       " 'tied',\n",
       " 'ten',\n",
       " 'emergency',\n",
       " 'digital',\n",
       " 'controls',\n",
       " 'original',\n",
       " 'hydrostatic',\n",
       " 'entertainment',\n",
       " 'subsequent',\n",
       " 'charity',\n",
       " 'radii',\n",
       " 'terminated',\n",
       " 'aerodynamic',\n",
       " 'hot',\n",
       " 'upfront',\n",
       " 'consistent',\n",
       " 'pick',\n",
       " 'procedures',\n",
       " 'recent',\n",
       " 'difference',\n",
       " 'repairs',\n",
       " 'scale',\n",
       " 'british',\n",
       " 'sized',\n",
       " 'demonstration',\n",
       " 'heart',\n",
       " 'forum',\n",
       " 'powers',\n",
       " 'loads',\n",
       " 'visual',\n",
       " 'official',\n",
       " 'identity',\n",
       " 'daily',\n",
       " 'ones',\n",
       " 'strength',\n",
       " 'monthly',\n",
       " 'equipment',\n",
       " 'mark',\n",
       " 'australian',\n",
       " 'might',\n",
       " 'melbourne',\n",
       " 'profile',\n",
       " 'parameter',\n",
       " 'easily',\n",
       " 'continuous',\n",
       " 'german',\n",
       " 'prepared',\n",
       " 'interface',\n",
       " 'pipe',\n",
       " 'aftermarket',\n",
       " 'certification',\n",
       " 'newer',\n",
       " 'any',\n",
       " 'agreed',\n",
       " 'you',\n",
       " 'prior',\n",
       " 'twist',\n",
       " 'enormous',\n",
       " 'smoothly',\n",
       " 'enabled',\n",
       " 'supporting',\n",
       " 'zones',\n",
       " 'barges',\n",
       " 'windows',\n",
       " 'marketed',\n",
       " 'moving',\n",
       " 'inspected',\n",
       " 'four',\n",
       " 'ahead',\n",
       " 'june',\n",
       " 'aspects',\n",
       " 'configured',\n",
       " 'pay',\n",
       " 'dismay',\n",
       " 'officer',\n",
       " 'facilities',\n",
       " 'compensation',\n",
       " 'force',\n",
       " 'how',\n",
       " 'approval',\n",
       " 'designed',\n",
       " 'burning',\n",
       " 'its',\n",
       " 'km',\n",
       " 'largely',\n",
       " 'allow',\n",
       " 'distinguish',\n",
       " 'thus',\n",
       " 'germany',\n",
       " 'peter',\n",
       " 'shallow',\n",
       " 'rest',\n",
       " 'choong',\n",
       " 'notified',\n",
       " 'toward',\n",
       " 'collaboration',\n",
       " 'jet',\n",
       " 'comparable',\n",
       " 'caa',\n",
       " 'hope',\n",
       " 'commenced',\n",
       " 'hp',\n",
       " 'engine',\n",
       " 'failures',\n",
       " 'envisaged',\n",
       " 'blast',\n",
       " 'abatement',\n",
       " 'fore',\n",
       " 'pavement',\n",
       " 'kong',\n",
       " 'taking',\n",
       " 'tourism',\n",
       " 'breakeven',\n",
       " 'stretching',\n",
       " 'removed',\n",
       " 'seat',\n",
       " 'challenge',\n",
       " 'concurrent',\n",
       " 'legs',\n",
       " 'gain',\n",
       " 'different',\n",
       " 'years',\n",
       " 'decade',\n",
       " 'linked',\n",
       " 'outboard',\n",
       " 'hold',\n",
       " 'complexity',\n",
       " 'illumination',\n",
       " 'raptor',\n",
       " 'economic',\n",
       " 'simple',\n",
       " 'allowing',\n",
       " 'occurrence',\n",
       " 'ba',\n",
       " 'cheaper',\n",
       " 'levels',\n",
       " 'shipping',\n",
       " 'decreased',\n",
       " 'suboptimal',\n",
       " 'rib',\n",
       " 'megaproject',\n",
       " 'clearance',\n",
       " 'manufacturers',\n",
       " 'both',\n",
       " 'certainly',\n",
       " 'al',\n",
       " 'lapsed',\n",
       " 'budget',\n",
       " 'compares',\n",
       " 'federal',\n",
       " 'chartered',\n",
       " 'aids',\n",
       " 'schedule',\n",
       " 'shifted',\n",
       " 'are',\n",
       " 'architecture',\n",
       " 'widebody',\n",
       " 'traced',\n",
       " 'measurements',\n",
       " 'quarter',\n",
       " 'sacrifices',\n",
       " 'exceeded',\n",
       " 'upon',\n",
       " '%',\n",
       " 'little',\n",
       " 'mandatory',\n",
       " 'headed',\n",
       " 'dimensions',\n",
       " 'revealed',\n",
       " 'same',\n",
       " 'deliveries',\n",
       " 'whether',\n",
       " 'paperless',\n",
       " '====',\n",
       " 'october',\n",
       " 'ceased',\n",
       " 'cm',\n",
       " 'parcel',\n",
       " 'unlike',\n",
       " 'finance',\n",
       " 'exterior',\n",
       " '$',\n",
       " 'considering',\n",
       " 'people',\n",
       " 'making',\n",
       " 'united',\n",
       " 'free',\n",
       " 'ordered',\n",
       " 'canada',\n",
       " 'barge',\n",
       " 'eroded',\n",
       " 'disappointing',\n",
       " 'support',\n",
       " 'test',\n",
       " 'commit',\n",
       " 'epoxy',\n",
       " 'side',\n",
       " 'freighters',\n",
       " 'risk',\n",
       " 'takes',\n",
       " 'brought',\n",
       " 'contracts',\n",
       " 'tag',\n",
       " 'charts',\n",
       " 'peters',\n",
       " 'loaded',\n",
       " 'gas',\n",
       " 'focus',\n",
       " 'buy',\n",
       " 'investigation',\n",
       " 'paying',\n",
       " 'jigs',\n",
       " 'clear',\n",
       " 'champion',\n",
       " 'stairways',\n",
       " 'popularity',\n",
       " 'reconfigurable',\n",
       " 'expires',\n",
       " 'weak',\n",
       " 'source',\n",
       " 'leading',\n",
       " 'set',\n",
       " 'rows',\n",
       " '2',\n",
       " 'restaurants',\n",
       " 'reaching',\n",
       " 'tonnes',\n",
       " 'purposes',\n",
       " 'charge',\n",
       " 'proliferated',\n",
       " 'backlog',\n",
       " 'before',\n",
       " 'too',\n",
       " 'compensate',\n",
       " 'lows',\n",
       " 'older',\n",
       " 'donors',\n",
       " 'there',\n",
       " 'tom',\n",
       " '0',\n",
       " 'newest',\n",
       " 'estimates',\n",
       " 'fatalities',\n",
       " 'sense',\n",
       " 'found',\n",
       " 'admits',\n",
       " 'them',\n",
       " 'advanced',\n",
       " 'teardown',\n",
       " 'seats',\n",
       " 'painted',\n",
       " 'spacing',\n",
       " 'ruling',\n",
       " 'lists',\n",
       " 'expected',\n",
       " 'embedded',\n",
       " 'converged',\n",
       " 'forcing',\n",
       " 'uk',\n",
       " 'occurred',\n",
       " 'requires',\n",
       " 'airliners',\n",
       " 'though',\n",
       " 'fully',\n",
       " 'former',\n",
       " 'placed',\n",
       " 'discovered',\n",
       " 'perform',\n",
       " 'taken',\n",
       " 'peaked',\n",
       " 'applied',\n",
       " 'resulted',\n",
       " 'modification',\n",
       " 'metal',\n",
       " ...]"
      ]
     },
     "execution_count": 46,
     "metadata": {},
     "output_type": "execute_result"
    }
   ],
   "source": [
    "words_in_model = [word for word in words if word in lista_cuvinte]\n",
    "\n",
    "words_in_model"
   ]
  },
  {
   "cell_type": "markdown",
   "metadata": {
    "id": "HCsC5DckNfA4"
   },
   "source": [
    "3. Determină similaritatea între toate cuvintele de pe pagina de wiki. Afișează top 3 cele mai apropiate perechi de cuvinte și top 3 cele mai diferite."
   ]
  },
  {
   "cell_type": "code",
   "execution_count": null,
   "metadata": {
    "colab": {
     "base_uri": "https://localhost:8080/"
    },
    "id": "9CirEW9vN2BB",
    "outputId": "8e1be9e0-dcd3-4ee3-a1a7-60c89f28645d"
   },
   "outputs": [],
   "source": [
    "# TODO: Determină similaritatea între toate cuvintele din textul de pe wiki\n",
    "\n",
    "# TODO: Afișează cele mai apropiate 3 perechi de cuvinte din text\n",
    "\n",
    "# TODO: Afișează cele mai diferite 3 perechi de cuvinte din text\n"
   ]
  },
  {
   "cell_type": "markdown",
   "metadata": {
    "id": "9yT2NJk-N0Yw"
   },
   "source": [
    "4. Pentru următoarele cuvinte: _user_, _survey_, _system_, _computer_ determină cel mai apropiat cuvânt folosind modelul încărcat pentru exercițiul bonus și modelul antrenat la începutul laboratorului. Observi diferențele?"
   ]
  },
  {
   "cell_type": "code",
   "execution_count": 68,
   "metadata": {
    "colab": {
     "base_uri": "https://localhost:8080/"
    },
    "id": "4I-swOk3PMqA",
    "outputId": "3397a2c5-5302-4666-e3ea-f616e643375a"
   },
   "outputs": [
    {
     "name": "stdout",
     "output_type": "stream",
     "text": [
      "Modelul antrenat de noi | Model preantrenat\n",
      "('eps', 0.13147011399269104) ('users', 0.7195653319358826)\n",
      "('trees', 0.19912061095237732) ('surveys', 0.8096452355384827)\n",
      "('computer', 0.21617141366004944) ('systems', 0.7227916717529297)\n",
      "('system', 0.21617139875888824) ('computers', 0.7979379892349243)\n"
     ]
    }
   ],
   "source": [
    "# TODO: Cel mai apropiat cuvânt de \"user\" folosind cele 2 modele\n",
    "\n",
    "# TODO: Cel mai apropiat cuvânt de \"survey\" folosind cele 2 modele\n",
    "\n",
    "# TODO: Cel mai apropiat cuvânt de \"system\" folosind cele 2 modele\n",
    "\n",
    "# TODO: Cel mai apropiat cuvânt de \"computer\" folosind cele 2 modele\n"
   ]
  }
 ],
 "metadata": {
  "colab": {
   "provenance": []
  },
  "kernelspec": {
   "display_name": "Python 3",
   "name": "python3"
  },
  "language_info": {
   "codemirror_mode": {
    "name": "ipython",
    "version": 3
   },
   "file_extension": ".py",
   "mimetype": "text/x-python",
   "name": "python",
   "nbconvert_exporter": "python",
   "pygments_lexer": "ipython3",
   "version": "3.12.3"
  }
 },
 "nbformat": 4,
 "nbformat_minor": 0
}
